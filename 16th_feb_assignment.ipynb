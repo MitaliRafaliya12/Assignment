{
 "cells": [
  {
   "cell_type": "code",
   "execution_count": 1,
   "id": "cb5e0484-a028-419a-8568-8e3cf5748ccb",
   "metadata": {},
   "outputs": [],
   "source": [
    "#16th_feb_assignment"
   ]
  },
  {
   "cell_type": "markdown",
   "id": "10607f96-3652-4786-902c-99c81fa13bf6",
   "metadata": {},
   "source": [
    "Q1. What is a database? Differentiate between SQL and NoSQL databases.\n",
    "#ANS:\n",
    "\n",
    "A database is a software system used for storing and managing data. It is a collection of data that is organized in a specific way to allow for efficient access, retrieval, and modification of that data.\n",
    "\n",
    "SQL and NoSQL are two different types of databases with different approaches to storing and managing data. SQL (Structured Query Language) databases are based on the relational model, which organizes data into tables with predefined relationships between them. SQL databases use SQL, a standardized language, to interact with the data and manipulate it. Some popular SQL databases include MySQL, Oracle, and PostgreSQL.\n",
    "\n",
    "On the other hand, NoSQL (Not Only SQL) databases are based on non-relational models, and they store data in more flexible ways. NoSQL databases are designed to handle large volumes of unstructured data and provide horizontal scalability. NoSQL databases use non-standardized APIs to interact with the data and manipulate it. Some popular NoSQL databases include MongoDB, Cassandra, and DynamoDB."
   ]
  },
  {
   "cell_type": "markdown",
   "id": "8b94de94-226a-4f95-a535-d9b44522c621",
   "metadata": {},
   "source": [
    "Q2. What is DDL? Explain why CREATE, DROP, ALTER, and TRUNCATE are used with an example.\n",
    "#ANS:\n",
    "\n",
    "DDL stands for Data Definition Language. It is a sub-language of SQL used to define and manage the structure of a database, including creating, modifying, and deleting database objects such as tables, indexes, and views.\n",
    "\n",
    "Here's an explanation of the four main DDL statements and their usage with examples:\n",
    "\n",
    "CREATE: \n",
    "        The CREATE statement is used to create a new database object, such as a table or index. \n",
    "    \n",
    "DROP:\n",
    "        This command is used to delete existing database objects like tables, views, or indexes.\n",
    "        \n",
    "ALTER:\n",
    "        This command is used to modify the structure of an existing database object, such as adding or dropping columns from a table or changing the data type of a column. \n",
    "        \n",
    "RUNCATE: \n",
    "        This command is used to remove all data from a table, but keep the structure of the table intact."
   ]
  },
  {
   "cell_type": "markdown",
   "id": "9d055b24-f9ff-434f-a022-673ce943a2be",
   "metadata": {},
   "source": [
    "#examples :\n",
    "\n",
    "1\n",
    "CREATE TABLE employees (\n",
    "    id INT PRIMARY KEY,\n",
    "    name VARCHAR(50),\n",
    "    salary DECIMAL(10,2),\n",
    "    department VARCHAR(50)\n",
    ");\n",
    "\n",
    "2\n",
    "DROP TABLE employees;\n",
    "\n",
    "3\n",
    "ALTER TABLE employees\n",
    "ADD COLUMN hire_date DATE;\n",
    "\n",
    "4\n",
    "TRUNCATE TABLE employees;"
   ]
  },
  {
   "cell_type": "markdown",
   "id": "44859761-d7cd-482a-88e7-0aa83da34128",
   "metadata": {},
   "source": [
    "Q3. What is DML? Explain INSERT, UPDATE, and DELETE with an example.\n",
    "#ANS :\n",
    " \n",
    "DML stands for Data Manipulation Language, which is a subset of SQL (Structured Query Language) used to manipulate data in a database. The three main commands used in DML are INSERT, UPDATE, and DELETE. Here's a brief explanation of each command with an example:\n",
    "\n",
    "INSERT:\n",
    "        This command is used to insert new rows of data into a table.\n",
    "        \n",
    "UPDATE:\n",
    "        This command is used to modify existing data in a table.\n",
    "        \n",
    "DELETE: \n",
    "        This command is used to delete data from a table. "
   ]
  },
  {
   "cell_type": "markdown",
   "id": "e898b98b-3f47-4d1f-83b3-40f1f673f368",
   "metadata": {},
   "source": [
    "#examples :\n",
    "\n",
    "1\n",
    "INSERT INTO employees (id, name, salary, department)\n",
    "VALUES (1, 'John Doe', 50000, 'Marketing');\n",
    "\n",
    "2\n",
    "UPDATE employees\n",
    "SET salary = 55000\n",
    "WHERE id = 1;\n",
    "\n",
    "3\n",
    "DELETE FROM employees\n",
    "WHERE id = 1;"
   ]
  },
  {
   "cell_type": "markdown",
   "id": "4e489c13-f925-4014-aab1-8446bc971858",
   "metadata": {},
   "source": [
    "Q4. What is DQL? Explain SELECT with an example.\n",
    "#ANS:\n",
    "\n",
    "DQL stands for Data Query Language, which is a subset of SQL (Structured Query Language) used to retrieve data from a database. The main command used in DQL is SELECT. Here's an explanation of how SELECT works with an example:\n",
    "\n",
    "The SELECT statement is used to retrieve data from one or more tables in a database. The basic syntax of the SELECT statement is as follows:\n",
    "\n",
    "SELECT column1, column2, ...\n",
    "FROM table_name\n",
    "WHERE condition;\n",
    "\n",
    "another way :\n",
    "\n",
    "SELECT * FROM employees;"
   ]
  },
  {
   "cell_type": "markdown",
   "id": "9b3acd2f-acc9-4dad-bc16-326e3cc7cd7a",
   "metadata": {},
   "source": [
    "Q5. Explain Primary Key and Foreign Key.\n",
    "#ans :\n",
    "\n",
    "In a relational database, a primary key and a foreign key are used to establish relationships between tables. Here's an explanation of each key:\n",
    "\n",
    "Primary Key:\n",
    "                A primary key is a column or group of columns in a table that uniquely identifies each row in that table. It is used to enforce data integrity by ensuring that each row is unique and can be easily accessed by other tables that reference it. A primary key cannot contain null values and must be unique across all rows in the table. Typically, a primary key is created using an integer column with the AUTO_INCREMENT attribute.\n",
    "\n",
    "Foreign Key: \n",
    "                A foreign key is a column or group of columns in a table that refers to the primary key of another table. It is used to establish a relationship between two tables by enforcing referential integrity. A foreign key can have multiple values that correspond to the values of the primary key in another table. By using foreign keys, we can create relationships between tables, which allows us to query data across multiple tables.\n",
    "                "
   ]
  },
  {
   "cell_type": "markdown",
   "id": "8e0f62d1-a94c-42a4-af4f-ac127766b291",
   "metadata": {},
   "source": [
    "Q6. Write a python code to connect MySQL to python. Explain the cursor() and execute() method.\n",
    "import mysql.connector\n",
    "\n",
    "# create connection\n",
    "mydb = mysql.connector.connect(\n",
    "    host=\"localhost\",\n",
    "    user=\"yourusername\",\n",
    "    password=\"yourpassword\",\n",
    "    database=\"yourdatabase\"\n",
    ")\n",
    "\n",
    "# create cursor\n",
    "mycursor = mydb.cursor()\n",
    "\n",
    "# execute SQL query\n",
    "mycursor.execute(\"SELECT * FROM customers\")\n",
    "\n",
    "# fetch all rows\n",
    "result = mycursor.fetchall()\n",
    "\n",
    "# print rows\n",
    "for row in result:\n",
    "    print(row)"
   ]
  },
  {
   "cell_type": "markdown",
   "id": "b1f848bd-1185-47dc-a989-2ee7e1c65630",
   "metadata": {},
   "source": [
    "Q7. Give the order of execution of SQL clauses in an SQL query.\n",
    "#ANS :\n",
    "\n",
    "An SQL query consists of various clauses, each with its own purpose and order of execution. Here is the order of execution of the main SQL clauses in a query:\n",
    "\n",
    "FROM: The FROM clause specifies the tables involved in the query and is executed first. It identifies the tables from which the data will be selected.\n",
    "\n",
    "JOIN: The JOIN clause is used to combine rows from two or more tables based on a related column between them. It is executed after the FROM clause.\n",
    "\n",
    "WHERE: The WHERE clause is used to filter rows based on a specified condition. It is executed after the JOIN clause.\n",
    "\n",
    "GROUP BY: The GROUP BY clause is used to group rows based on one or more columns. It is executed after the WHERE clause.\n",
    "\n",
    "HAVING: The HAVING clause is used to filter the groups created by the GROUP BY clause. It is executed after the GROUP BY clause.\n",
    "\n",
    "SELECT: The SELECT clause is used to select the columns that will be included in the query result. It is executed after the HAVING clause.\n",
    "\n",
    "DISTINCT: The DISTINCT keyword is used to eliminate duplicate rows in the query result. It is executed after the SELECT clause.\n",
    "\n",
    "ORDER BY: The ORDER BY clause is used to sort the rows in the query result based on one or more columns. It is executed after the SELECT or DISTINCT clause.\n",
    "\n",
    "LIMIT/OFFSET: The LIMIT and OFFSET keywords are used to limit the number of rows returned by the query and to specify the starting row. They are executed last, after all other clauses have been executed."
   ]
  }
 ],
 "metadata": {
  "kernelspec": {
   "display_name": "Python 3 (ipykernel)",
   "language": "python",
   "name": "python3"
  },
  "language_info": {
   "codemirror_mode": {
    "name": "ipython",
    "version": 3
   },
   "file_extension": ".py",
   "mimetype": "text/x-python",
   "name": "python",
   "nbconvert_exporter": "python",
   "pygments_lexer": "ipython3",
   "version": "3.10.8"
  }
 },
 "nbformat": 4,
 "nbformat_minor": 5
}
