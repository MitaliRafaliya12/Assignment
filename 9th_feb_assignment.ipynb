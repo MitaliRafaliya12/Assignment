{
 "cells": [
  {
   "cell_type": "code",
   "execution_count": 1,
   "id": "931b346f-674a-4d57-b1df-06ca7c780d14",
   "metadata": {},
   "outputs": [],
   "source": [
    "#9th_feb_assignment"
   ]
  },
  {
   "cell_type": "markdown",
   "id": "754cd545-fa34-4b30-a663-a103632e6674",
   "metadata": {},
   "source": [
    "#QUS1 Create a vehicle class with an init method having instance variables as name_of_vehicle, max_speed\n",
    "and average_of_vehicle."
   ]
  },
  {
   "cell_type": "code",
   "execution_count": 6,
   "id": "1ce6b99a-a278-46cf-829c-ad62f454d852",
   "metadata": {},
   "outputs": [],
   "source": [
    "#ANS:\n",
    "class Vehicle:\n",
    "    def __init__(self,name_of_vehicle,max_speed,average_of_vehicle):\n",
    "        self.name_of_vehicle=name_of_vehicle\n",
    "        self.max_speed=max_speed\n",
    "        self.average_of_vehicle=average_of_vehicle"
   ]
  },
  {
   "cell_type": "code",
   "execution_count": 7,
   "id": "2aa9b323-4a6f-478d-9f53-e94da40ccdde",
   "metadata": {},
   "outputs": [],
   "source": [
    "mahi=Vehicle('skoda',200,100)"
   ]
  },
  {
   "cell_type": "code",
   "execution_count": 8,
   "id": "85cb14e3-ee6b-4425-8f98-07733812e36b",
   "metadata": {},
   "outputs": [
    {
     "data": {
      "text/plain": [
       "'skoda'"
      ]
     },
     "execution_count": 8,
     "metadata": {},
     "output_type": "execute_result"
    }
   ],
   "source": [
    "mahi.name_of_vehicle"
   ]
  },
  {
   "cell_type": "code",
   "execution_count": 9,
   "id": "99d04b3f-67cc-41b9-83d5-d423062b8143",
   "metadata": {},
   "outputs": [
    {
     "data": {
      "text/plain": [
       "200"
      ]
     },
     "execution_count": 9,
     "metadata": {},
     "output_type": "execute_result"
    }
   ],
   "source": [
    "mahi.max_speed"
   ]
  },
  {
   "cell_type": "code",
   "execution_count": 10,
   "id": "a82b7830-f524-4537-b084-acb6c4541371",
   "metadata": {},
   "outputs": [
    {
     "data": {
      "text/plain": [
       "100"
      ]
     },
     "execution_count": 10,
     "metadata": {},
     "output_type": "execute_result"
    }
   ],
   "source": [
    "mahi.average_of_vehicle"
   ]
  },
  {
   "cell_type": "markdown",
   "id": "7066922f-b4ba-4750-a8e5-d8cce256afe3",
   "metadata": {},
   "source": [
    "#QUS2  Create a child class car from the vehicle class created in Que 1, which will inherit the vehicle class.\n",
    "Create a method named seating_capacity which takes capacity as an argument and returns the name of\n",
    "the vehicle and its seating capacity."
   ]
  },
  {
   "cell_type": "code",
   "execution_count": 21,
   "id": "24d030b0-1ae3-4c47-8344-42852b4e08d6",
   "metadata": {},
   "outputs": [],
   "source": [
    "class Car(Vehicle):\n",
    "    def seating_capacity(self, capacity):\n",
    "        return f\"The name of the vehicle is {self.name_of_vehicle} and its seating capacity is {capacity}\""
   ]
  },
  {
   "cell_type": "code",
   "execution_count": 22,
   "id": "8c8dce0a-0778-421a-8aa6-b57ff17c3067",
   "metadata": {},
   "outputs": [],
   "source": [
    "mira=Car('bullet',12,34)"
   ]
  },
  {
   "cell_type": "code",
   "execution_count": 23,
   "id": "492e2007-9ef7-419b-9633-7154d43fa8eb",
   "metadata": {},
   "outputs": [
    {
     "data": {
      "text/plain": [
       "'The name of the vehicle is bullet and its seating capacity is 45'"
      ]
     },
     "execution_count": 23,
     "metadata": {},
     "output_type": "execute_result"
    }
   ],
   "source": [
    "mira.seating_capacity(45)"
   ]
  },
  {
   "cell_type": "markdown",
   "id": "e3cda8b7-4752-481e-88a1-1753aff4c817",
   "metadata": {},
   "source": [
    "#QUS3 What is multiple inheritance? Write a python code to demonstrate multiple inheritance.\n",
    "#ANS:\n",
    "    Multiple inheritance is a feature in object-oriented programming languages where a single class can inherit\n",
    "properties and methods from multiple parent classes.\n",
    "This allows for a more efficient way of combining and reusing code from multiple classes in a single class.\n",
    "\n",
    "Here is an example of multiple inheritance in Python:"
   ]
  },
  {
   "cell_type": "code",
   "execution_count": 24,
   "id": "65e406f6-e8c3-4fca-aeaf-9319279d01fb",
   "metadata": {},
   "outputs": [],
   "source": [
    "class Parent1:\n",
    "    def method1(self):\n",
    "        print(\"Parent 1 Method\")\n",
    "        \n",
    "class Parent2:\n",
    "    def method2(self):\n",
    "        print(\"Parent 2 Method\")\n",
    "        \n",
    "class Child(Parent1, Parent2):\n",
    "    pass\n",
    "\n"
   ]
  },
  {
   "cell_type": "code",
   "execution_count": 25,
   "id": "7fb3fc72-f41e-48f0-bd23-8457e6ac2a83",
   "metadata": {},
   "outputs": [],
   "source": [
    "obj = Child()\n"
   ]
  },
  {
   "cell_type": "code",
   "execution_count": 26,
   "id": "bca0beef-cd98-4a25-b404-7eb0e873b7c5",
   "metadata": {},
   "outputs": [
    {
     "name": "stdout",
     "output_type": "stream",
     "text": [
      "Parent 1 Method\n"
     ]
    }
   ],
   "source": [
    "obj.method1()"
   ]
  },
  {
   "cell_type": "code",
   "execution_count": 27,
   "id": "26aacf52-c43a-44c2-9955-838c9b57f15b",
   "metadata": {},
   "outputs": [
    {
     "name": "stdout",
     "output_type": "stream",
     "text": [
      "Parent 2 Method\n"
     ]
    }
   ],
   "source": [
    "obj.method2()"
   ]
  },
  {
   "cell_type": "markdown",
   "id": "3983a4cc-ef57-4441-8870-949f171cf38d",
   "metadata": {},
   "source": [
    "#QUS4 What are getter and setter in python? Create a class and create a getter and a setter method in this class.\n",
    "#ANS:\n",
    "        Getters and setters are methods in object-oriented programming that allow you to define the way an object's data\n",
    "is accessed and modified. \n",
    "They provide a way to control access to an object's attributes and to enforce some level of data validation.\n",
    "Getters are used to retrieve the value of an object's attributes, and setters are used to set the value of an object's attributes.\n",
    "Here is an example of a class in Python with getters and setters:"
   ]
  },
  {
   "cell_type": "code",
   "execution_count": 28,
   "id": "9c94cfde-06b4-4f27-af16-a34b9d57dd26",
   "metadata": {},
   "outputs": [],
   "source": [
    "class Person:\n",
    "    def __init__(self, name, age):\n",
    "        self._name = name\n",
    "        self._age = age\n",
    "        \n",
    "    def get_name(self):\n",
    "        return self._name\n",
    "    \n",
    "    def set_name(self, name):\n",
    "        self._name = name\n",
    "        \n",
    "    def get_age(self):\n",
    "        return self._age\n",
    "    \n",
    "    def set_age(self, age):\n",
    "        if age >= 0:\n",
    "            self._age = age\n",
    "        else:\n",
    "            raise ValueError(\"Age cannot be negative.\")"
   ]
  },
  {
   "cell_type": "code",
   "execution_count": 29,
   "id": "3e30940e-2ebd-4f59-8308-1a4d86a71352",
   "metadata": {},
   "outputs": [],
   "source": [
    "person = Person(\"John Doe\", 30)"
   ]
  },
  {
   "cell_type": "code",
   "execution_count": 30,
   "id": "592eeb7d-7801-4953-b191-f20e5e79f6f4",
   "metadata": {},
   "outputs": [
    {
     "data": {
      "text/plain": [
       "30"
      ]
     },
     "execution_count": 30,
     "metadata": {},
     "output_type": "execute_result"
    }
   ],
   "source": [
    "person.get_age()"
   ]
  },
  {
   "cell_type": "code",
   "execution_count": 31,
   "id": "a5b8f2d3-f933-461a-9bc0-dbcb7547541b",
   "metadata": {},
   "outputs": [],
   "source": [
    "person.set_age(35)"
   ]
  },
  {
   "cell_type": "code",
   "execution_count": 32,
   "id": "0ad4e83c-57e5-49b1-b310-efbc14d904a1",
   "metadata": {},
   "outputs": [
    {
     "data": {
      "text/plain": [
       "35"
      ]
     },
     "execution_count": 32,
     "metadata": {},
     "output_type": "execute_result"
    }
   ],
   "source": [
    "person.get_age()"
   ]
  },
  {
   "cell_type": "code",
   "execution_count": 33,
   "id": "a1c985f1-0456-4549-aef6-be15bed68f6a",
   "metadata": {},
   "outputs": [],
   "source": [
    "person.set_name(\"Jane Doe\")"
   ]
  },
  {
   "cell_type": "code",
   "execution_count": 34,
   "id": "91deb9eb-3734-493f-a0e8-48d9bae70f40",
   "metadata": {},
   "outputs": [
    {
     "data": {
      "text/plain": [
       "'Jane Doe'"
      ]
     },
     "execution_count": 34,
     "metadata": {},
     "output_type": "execute_result"
    }
   ],
   "source": [
    "person.get_name()"
   ]
  },
  {
   "cell_type": "markdown",
   "id": "03ba7647-a2c5-4389-8936-b3e367efd65e",
   "metadata": {},
   "source": [
    "#QUS What is method overriding in python? Write a python code to demonstrate method overriding.\n",
    "#ANS:\n",
    "        Method overriding is a feature in object-oriented programming where a subclass provides a new implementation\n",
    "for a method that is already defined in its parent class. This allows the subclass to inherit the general behavior\n",
    "of the parent class while still providing a unique behavior for a specific use case.\n",
    "Here is an example of method overriding in Python:"
   ]
  },
  {
   "cell_type": "code",
   "execution_count": 35,
   "id": "56fba8f3-0481-4487-bf18-ab0c2a5c43d5",
   "metadata": {},
   "outputs": [],
   "source": [
    "class Shape:\n",
    "    def area(self):\n",
    "        pass\n",
    "    \n",
    "class Square(Shape):\n",
    "    def __init__(self, side):\n",
    "        self.side = side\n",
    "        \n",
    "    def area(self):\n",
    "        return self.side ** 2\n",
    "    \n",
    "class Circle(Shape):\n",
    "    def __init__(self, radius):\n",
    "        self.radius = radius\n",
    "        \n",
    "    def area(self):\n",
    "        return 3.14 * (self.radius ** 2)"
   ]
  },
  {
   "cell_type": "code",
   "execution_count": 36,
   "id": "256873ae-8d84-42f3-99ce-8abf632a9ca9",
   "metadata": {},
   "outputs": [],
   "source": [
    "square = Square(5)"
   ]
  },
  {
   "cell_type": "code",
   "execution_count": 37,
   "id": "451c3f88-8019-4554-bd39-3e1f109fbf52",
   "metadata": {},
   "outputs": [
    {
     "data": {
      "text/plain": [
       "25"
      ]
     },
     "execution_count": 37,
     "metadata": {},
     "output_type": "execute_result"
    }
   ],
   "source": [
    " square.area()"
   ]
  },
  {
   "cell_type": "code",
   "execution_count": 38,
   "id": "2d2b3989-cc39-4c9b-a8f9-34d1fc17d426",
   "metadata": {},
   "outputs": [],
   "source": [
    "circle = Circle(5)"
   ]
  },
  {
   "cell_type": "code",
   "execution_count": 39,
   "id": "9b44cb78-fbc9-4752-b4a6-f189cfaefd1e",
   "metadata": {},
   "outputs": [
    {
     "data": {
      "text/plain": [
       "78.5"
      ]
     },
     "execution_count": 39,
     "metadata": {},
     "output_type": "execute_result"
    }
   ],
   "source": [
    "circle.area()"
   ]
  },
  {
   "cell_type": "code",
   "execution_count": null,
   "id": "c5f59f01-3bfd-4b93-87f3-9754537041d7",
   "metadata": {},
   "outputs": [],
   "source": []
  }
 ],
 "metadata": {
  "kernelspec": {
   "display_name": "Python 3 (ipykernel)",
   "language": "python",
   "name": "python3"
  },
  "language_info": {
   "codemirror_mode": {
    "name": "ipython",
    "version": 3
   },
   "file_extension": ".py",
   "mimetype": "text/x-python",
   "name": "python",
   "nbconvert_exporter": "python",
   "pygments_lexer": "ipython3",
   "version": "3.10.8"
  }
 },
 "nbformat": 4,
 "nbformat_minor": 5
}
