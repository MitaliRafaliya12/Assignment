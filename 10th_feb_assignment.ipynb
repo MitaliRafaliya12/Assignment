{
 "cells": [
  {
   "cell_type": "code",
   "execution_count": 1,
   "id": "8c956701-7ebb-4c62-8e10-a8e3d995decd",
   "metadata": {},
   "outputs": [],
   "source": [
    "#10th_feb_assignment"
   ]
  },
  {
   "cell_type": "markdown",
   "id": "5aa5a1bc-6edd-4ee1-8f46-1c58a3d0af78",
   "metadata": {},
   "source": [
    "Q1. Which function is used to open a file? What are the different modes of opening a file? Explain each mode of file opening in python.\n",
    "#ANS :\n",
    "            The open function is used to open a file in Python. The open function takes two arguments:\n",
    "            the name of the file, and the mode in which you want to open the file.\n",
    "\n",
    "There are several modes in which you can open a file in Python:\n",
    "\n",
    "'r' (read-only mode): This is the default mode when you open a file in Python. In this mode, you can only read the contents of the file, and you cannot make any changes to it. If the file does not exist, an error will be raised.\n",
    "\n",
    "'w' (write mode): In this mode, you can write to the file. If the file already exists, its contents will be overwritten. If the file does not exist, a new file will be created.\n",
    "\n",
    "'a' (append mode): In this mode, you can write to the end of the file. If the file already exists, the new data will be appended to the end of the file. If the file does not exist, a new file will be created.\n",
    "\n",
    "'x' (exclusive creation mode): In this mode, a new file is created for writing, but an error will be raised if the file already exists.\n",
    "\n",
    "'b' (binary mode): This mode is used to open a binary file, such as an image or a video. When you open a binary file in binary mode, the contents of the file will be read and written as bytes."
   ]
  },
  {
   "cell_type": "markdown",
   "id": "65e2dd97-2266-45a5-8a3e-7e46d1a07640",
   "metadata": {},
   "source": [
    "Q2. Why close() function is used? Why is it important to close a file?\n",
    "#ANS:\n",
    "        In Python, the close function is used to close a file that has been opened. Closing a file is important because it frees up system resources that were used by the file and ensures that the file is properly saved to disk.\n",
    "\n",
    "When you open a file, Python creates a file object that is stored in memory. This file object contains information about the file, including its contents, position, and status. The file object also keeps a reference to the operating system's file descriptor, which is a low-level representation of the file.\n",
    "\n",
    "When you're done working with a file, you should close it to release the file object and its associated resources. This is especially important if you're working with large files, because a file that is left open can consume a significant amount of memory.\n",
    "\n",
    "Closing a file also ensures that any changes you've made to the file are properly saved to disk. When you write to a file, the changes are usually stored in a buffer in memory and not immediately written to disk. Closing the file forces any remaining data in the buffer to be written to disk, ensuring that your changes are saved.\n",
    "\n",
    "In Python, you can use the with statement to automatically close a file, even if an exception is raised. The with statement takes care of closing the file for you, so you don't have to worry about it"
   ]
  },
  {
   "cell_type": "code",
   "execution_count": 2,
   "id": "0e338bd4-38d5-496a-92b0-04b6f346cdd8",
   "metadata": {},
   "outputs": [
    {
     "data": {
      "text/plain": [
       "33"
      ]
     },
     "execution_count": 2,
     "metadata": {},
     "output_type": "execute_result"
    }
   ],
   "source": [
    "# Q3. Write a python program to create a text file. Write ‘I want to become a Data Scientist’ in that file. Then\n",
    "# close the file. Open this file and read the content of the file.\n",
    "f = open(\"demo.txt\",'w')\n",
    "f.write(\"i want to become a data scientist\")"
   ]
  },
  {
   "cell_type": "code",
   "execution_count": 3,
   "id": "b76d2c61-fb99-4e96-8d69-0934f690095b",
   "metadata": {},
   "outputs": [],
   "source": [
    "f.close()"
   ]
  },
  {
   "cell_type": "code",
   "execution_count": 4,
   "id": "b9599490-38dc-4855-9cb8-c53442628621",
   "metadata": {},
   "outputs": [
    {
     "name": "stdout",
     "output_type": "stream",
     "text": [
      "i want to become a data scientist\n"
     ]
    }
   ],
   "source": [
    "f = open(\"demo.txt\",'r')\n",
    "data = f.read()\n",
    "print(data)"
   ]
  },
  {
   "cell_type": "markdown",
   "id": "976d22a0-1830-4241-9e4a-614b35c932ce",
   "metadata": {},
   "source": [
    "Q4. Explain the following with python code: read(), readline() and readlines().\n",
    "\n",
    "In Python, the read, readline, and readlines methods are used to read data from a file.\n",
    "\n",
    "1. read:\n",
    "            The read method reads the entire contents of the file and returns it as a single string.\n",
    "        You can specify the number of characters to read by passing an argument to the read method.\n",
    "            \n",
    "2.readline:\n",
    "            The readline method reads a single line from the file and returns it as a string.\n",
    "        You can use a loop to read all the lines in the file.\n",
    "        \n",
    "3. readlines: \n",
    "            The readlines method reads all the lines in the file and returns them as a list of strings:"
   ]
  },
  {
   "cell_type": "code",
   "execution_count": 10,
   "id": "9f56a78c-1fc4-48c2-9fbd-57c3f2b55f7d",
   "metadata": {},
   "outputs": [],
   "source": [
    "#example of read :\n",
    "# with open('example.txt', 'r') as f:\n",
    "#     contents = f.read()\n",
    "#     print(contents)\n",
    "\n",
    "#example of readline :\n",
    "# with open('example.txt', 'r') as f:\n",
    "#     line = f.readline()\n",
    "#     while line:\n",
    "#         print(line)\n",
    "#         line = f.readline()\n",
    "\n",
    "#example of readlines :\n",
    "# with open('example.txt', 'r') as f:\n",
    "#     lines = f.readlines()\n",
    "#     for line in lines:\n",
    "#         print(line)"
   ]
  },
  {
   "cell_type": "markdown",
   "id": "12e0506f-9bb3-4a71-84cf-97bbcc6b7cc3",
   "metadata": {},
   "source": [
    "Q5. Explain why with statement is used with open(). What is the advantage of using with statement and open() together?\n",
    "The with statement is often used in Python when working with files to ensure that the file is properly closed, even if an exception is raised. The with statement creates a context in which a file is automatically closed when the block of code inside the with statement is finished.\n",
    "\n",
    "When you open a file, it's important to close it when you're done to release any system resources that were used by the file and to ensure that any changes you made to the file are properly saved. If you don't close the file, you may run into issues with system resources, and your changes to the file may not be saved.\n",
    "\n",
    "By using the with statement with the open function, you can ensure that the file is always closed, even if an exception is raised. The with statement automatically closes the file when the block of code inside the with statement is finished, so you don't have to worry about it."
   ]
  },
  {
   "cell_type": "markdown",
   "id": "269a54b3-80b6-43bd-89a4-d0d750a83cb5",
   "metadata": {},
   "source": [
    "Q6. Explain the write() and writelines() functions. Give a suitable example.\n",
    "\n",
    "1. write() :\n",
    "            The write and writelines functions are used to write data to a file in Python.\n",
    "            The write function takes a single string argument and writes it to the file. \n",
    "\n",
    "2. writelines() :\n",
    "            The writelines function takes a list of strings and writes each string as a separate line to the file."
   ]
  },
  {
   "cell_type": "code",
   "execution_count": 11,
   "id": "85dcbb9f-a2d3-4aa0-9fe4-13bf9dc8bcff",
   "metadata": {},
   "outputs": [],
   "source": [
    "# example of write() :\n",
    "with open('example.txt', 'w') as f:\n",
    "    f.write('This is a test.\\n')\n",
    "    f.write('This is another test.\\n')"
   ]
  },
  {
   "cell_type": "code",
   "execution_count": 12,
   "id": "2769625a-8ad8-46e5-8c36-8345bff50932",
   "metadata": {},
   "outputs": [],
   "source": [
    "# example of writelines() :\n",
    "lines = ['This is a test.\\n', 'This is another test.\\n']\n",
    "\n",
    "with open('example.txt', 'w') as f:\n",
    "    f.writelines(lines)"
   ]
  },
  {
   "cell_type": "code",
   "execution_count": null,
   "id": "1f7ce27f-a2ea-4a35-9d8c-77eeb101e0a2",
   "metadata": {},
   "outputs": [],
   "source": []
  }
 ],
 "metadata": {
  "kernelspec": {
   "display_name": "Python 3 (ipykernel)",
   "language": "python",
   "name": "python3"
  },
  "language_info": {
   "codemirror_mode": {
    "name": "ipython",
    "version": 3
   },
   "file_extension": ".py",
   "mimetype": "text/x-python",
   "name": "python",
   "nbconvert_exporter": "python",
   "pygments_lexer": "ipython3",
   "version": "3.10.8"
  }
 },
 "nbformat": 4,
 "nbformat_minor": 5
}
