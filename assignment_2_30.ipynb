{
 "cells": [
  {
   "cell_type": "markdown",
   "id": "f4d6a862-265c-4e6e-9ed9-1fb9acdca6e3",
   "metadata": {},
   "source": [
    "#30th_jan_assignment"
   ]
  },
  {
   "cell_type": "markdown",
   "id": "84ac8d6e-53b1-479b-bdc5-f0c57c98bd45",
   "metadata": {},
   "source": [
    "#Question 1  Write a program to accept percentage from the user and display the grade according to the following \n",
    "criteria: \n",
    "Marks \n",
    "Grade \n",
    ">90 \n",
    "A \n",
    ">80 and <=90 \n",
    "B \n",
    ">=60 and <=80 \n",
    "C \n",
    "below 60 \n",
    "D \n"
   ]
  },
  {
   "cell_type": "code",
   "execution_count": 1,
   "id": "da18294a-ec34-4cb1-89f6-e500bf75fcf7",
   "metadata": {},
   "outputs": [
    {
     "name": "stdin",
     "output_type": "stream",
     "text": [
      "\n",
      " enter the value of percentage: 98\n"
     ]
    },
    {
     "name": "stdout",
     "output_type": "stream",
     "text": [
      "\n",
      "your grade = A\n"
     ]
    }
   ],
   "source": [
    "#Ans\n",
    "per=int(input(\"\\n enter the value of percentage:\"))\n",
    "if per>90:\n",
    "    print(\"\\nyour grade = A\")\n",
    "elif per>80 and per<=90:\n",
    "     print(\"\\nyour grade = B\")\n",
    "elif per>=60 and per<=80:\n",
    "    print(\"\\nyour grade = C\")\n",
    "else:\n",
    "    print(\"\\n your grade = D\")"
   ]
  },
  {
   "cell_type": "markdown",
   "id": "286c6bf6-f1d4-4c73-9d35-36f04274f9a9",
   "metadata": {},
   "source": [
    "#Question 2  Write a program to accept the cost price of a bike and display the road tax to be paid according to the \n",
    "following criteria: \n",
    "\n",
    "Cost Price(in Rs)        Tax\n",
    ">100000                  15%\n",
    ">50000 and <= 100000      10%\n",
    "<= 50000                 5%\n"
   ]
  },
  {
   "cell_type": "code",
   "execution_count": 2,
   "id": "ace458df-fcf7-4898-9704-fda656c0df2f",
   "metadata": {},
   "outputs": [
    {
     "name": "stdin",
     "output_type": "stream",
     "text": [
      "\n",
      " enter the cost price of the bike: 190000\n"
     ]
    },
    {
     "name": "stdout",
     "output_type": "stream",
     "text": [
      "28500.0\n"
     ]
    }
   ],
   "source": [
    "#Ans:\n",
    "cost_price=int(input(\"\\n enter the cost price of the bike:\"))\n",
    "if cost_price > 100000:\n",
    "    tax=cost_price*15/100\n",
    "    print(tax)\n",
    "elif cost_price > 50000 and cost_price <= 100000 :\n",
    "    tax=cost_price*10/100\n",
    "    print(tax)\n",
    "elif cost_price <= 50000:\n",
    "    tax=cost_price*5/100\n",
    "    print(tax)"
   ]
  },
  {
   "cell_type": "markdown",
   "id": "8e791003-1046-4cea-8b46-5488b675e38b",
   "metadata": {},
   "source": [
    "#Question 3  Accept any city from the user and display monuments of that city. \n",
    "\n",
    "City               Monument \n",
    "Delhi              Red Fort\n",
    "Agra               Taj Mahal \n",
    "Jaipur             Jal Mahal \n",
    "\n",
    "\n"
   ]
  },
  {
   "cell_type": "code",
   "execution_count": 3,
   "id": "c5ce7f0d-488c-483e-86a3-81482a02e182",
   "metadata": {},
   "outputs": [
    {
     "name": "stdin",
     "output_type": "stream",
     "text": [
      "\n",
      " enter the city: Jaipur\n"
     ]
    },
    {
     "name": "stdout",
     "output_type": "stream",
     "text": [
      "\n",
      " monument of Jaipur = Jal Mahal\n"
     ]
    }
   ],
   "source": [
    "city=input(\"\\n enter the city:\")\n",
    "if city == \"Delhi\":\n",
    "    print(\"\\n Monument of Delhi = Red fort\")\n",
    "elif city == \"Agra\":\n",
    "    print(\"\\n Monument of Agra = Taj Mahal\")\n",
    "elif city == \"Jaipur\":\n",
    "    print(\"\\n monument of Jaipur = Jal Mahal\")\n",
    "else:\n",
    "    print(\"\\n enter valid city\")"
   ]
  },
  {
   "cell_type": "markdown",
   "id": "9bcc6b61-d179-42e4-b6af-508dc87761d7",
   "metadata": {},
   "source": [
    "#Question 4 Check how many times a given number can be divided by 3 before it is less than or equal to 10. \n",
    "|"
   ]
  },
  {
   "cell_type": "code",
   "execution_count": 5,
   "id": "96a81b48-db4f-4ea3-8665-a5e77d672c16",
   "metadata": {},
   "outputs": [
    {
     "name": "stdin",
     "output_type": "stream",
     "text": [
      "\n",
      " enter the number: 90\n"
     ]
    },
    {
     "name": "stdout",
     "output_type": "stream",
     "text": [
      "2\n"
     ]
    }
   ],
   "source": [
    "#Ans:\n",
    "number=int(input(\"\\n enter the number:\"))\n",
    "count=0\n",
    "while number > 10:\n",
    "    number = number / 3\n",
    "    count = count +1\n",
    "print(count)\n"
   ]
  },
  {
   "cell_type": "markdown",
   "id": "40b9c4a4-bec8-4bb9-a4fc-1574cb2adc6f",
   "metadata": {},
   "source": [
    "#Question 5 Why and When to Use while Loop in Python give a detailed description with example \n",
    " #Ans:\n",
    "     # while loop in Python is used to execute a block of code repeatedly as long as a given condition is true.\n",
    "    "
   ]
  },
  {
   "cell_type": "code",
   "execution_count": 6,
   "id": "6cc568d8-2de1-45b8-9c78-ec6ce01e6da3",
   "metadata": {},
   "outputs": [
    {
     "name": "stdout",
     "output_type": "stream",
     "text": [
      "1\n",
      "2\n",
      "3\n",
      "4\n",
      "5\n",
      "6\n",
      "7\n",
      "8\n",
      "9\n",
      "10\n"
     ]
    }
   ],
   "source": [
    "#example:\n",
    "count=1\n",
    "while count <= 10:\n",
    "    print(count)\n",
    "    count=count+1"
   ]
  },
  {
   "cell_type": "markdown",
   "id": "70f65b14-fdac-455d-ba15-904f5f9771c6",
   "metadata": {},
   "source": [
    "#Question 6 Use nested while loop to print 3 different pattern. \n"
   ]
  },
  {
   "cell_type": "code",
   "execution_count": 7,
   "id": "72d785be-0b34-4406-a059-8a3d14b3197a",
   "metadata": {},
   "outputs": [
    {
     "name": "stdout",
     "output_type": "stream",
     "text": [
      "1 \n",
      "1 2 \n",
      "1 2 3 \n",
      "1 2 3 4 \n",
      "1 2 3 4 5 \n"
     ]
    }
   ],
   "source": [
    "#Ans\n",
    "#pattern1\n",
    "i=1\n",
    "while i<=5:\n",
    "    j=1\n",
    "    while j<=i:\n",
    "        print(j,end=\" \")\n",
    "        j=j+1\n",
    "    print(\"\")\n",
    "    i=i+1"
   ]
  },
  {
   "cell_type": "code",
   "execution_count": 8,
   "id": "eb589da6-925f-4144-b237-91c407473b83",
   "metadata": {},
   "outputs": [
    {
     "name": "stdout",
     "output_type": "stream",
     "text": [
      "* \n",
      "* * \n",
      "* * * \n",
      "* * * * \n",
      "* * * * * \n"
     ]
    }
   ],
   "source": [
    "#pattern2\n",
    "i=1\n",
    "while i<=5:\n",
    "    j=1\n",
    "    while j<=i:\n",
    "        print(\"*\",end=\" \")\n",
    "        j=j+1\n",
    "    print(\"\")\n",
    "    i=i+1"
   ]
  },
  {
   "cell_type": "code",
   "execution_count": 9,
   "id": "fea65ce0-fdd1-42cc-86f1-6ea6d8f43247",
   "metadata": {},
   "outputs": [
    {
     "name": "stdout",
     "output_type": "stream",
     "text": [
      "*****\n",
      "****\n",
      "***\n",
      "**\n",
      "*\n"
     ]
    }
   ],
   "source": [
    "#pattern3\n",
    "i=5\n",
    "while i>=1:\n",
    "    j=1\n",
    "    while j<=i:\n",
    "        print(\"*\",end=\"\")\n",
    "        j=j+1\n",
    "    print(\"\")\n",
    "    i=i-1"
   ]
  },
  {
   "cell_type": "markdown",
   "id": "1b5d0198-5e00-40d0-812a-2cf61c8d2f1b",
   "metadata": {},
   "source": [
    "#Question 7 Reverse a while loop to display numbers from 10 to 1 \n"
   ]
  },
  {
   "cell_type": "code",
   "execution_count": 10,
   "id": "0b2bb21f-6d30-4978-b932-18e05eef761d",
   "metadata": {},
   "outputs": [
    {
     "name": "stdout",
     "output_type": "stream",
     "text": [
      "10\n",
      "9\n",
      "8\n",
      "7\n",
      "6\n",
      "5\n",
      "4\n",
      "3\n",
      "2\n",
      "1\n"
     ]
    }
   ],
   "source": [
    "#Ans:\n",
    "i=10\n",
    "while i > 0:\n",
    "    print(i)\n",
    "    i=i-1"
   ]
  },
  {
   "cell_type": "code",
   "execution_count": null,
   "id": "d6886e9d-2588-4683-904a-7a55433c42c2",
   "metadata": {},
   "outputs": [],
   "source": []
  }
 ],
 "metadata": {
  "kernelspec": {
   "display_name": "Python 3 (ipykernel)",
   "language": "python",
   "name": "python3"
  },
  "language_info": {
   "codemirror_mode": {
    "name": "ipython",
    "version": 3
   },
   "file_extension": ".py",
   "mimetype": "text/x-python",
   "name": "python",
   "nbconvert_exporter": "python",
   "pygments_lexer": "ipython3",
   "version": "3.10.8"
  }
 },
 "nbformat": 4,
 "nbformat_minor": 5
}
