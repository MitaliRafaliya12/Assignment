{
 "cells": [
  {
   "cell_type": "markdown",
   "id": "b64e74ab-51de-4de7-aec7-4a0f670ae9cf",
   "metadata": {},
   "source": [
    "#3rd_feb_assignment"
   ]
  },
  {
   "cell_type": "markdown",
   "id": "bcbd6beb-9bf0-47a1-a91e-afeeee04df97",
   "metadata": {},
   "source": [
    "#Question 1 Which keyword is used to create a function? Create a function to return a list of odd numbers in the  range of 1 to 25. \n"
   ]
  },
  {
   "cell_type": "code",
   "execution_count": 1,
   "id": "6be08312-a4ba-4297-8846-d71a320b15cf",
   "metadata": {},
   "outputs": [],
   "source": [
    "#Ans:\n",
    "#def keyword is used to create a function.\n",
    "#function to return list of odd number:\n",
    "\n",
    "def odd_num():\n",
    "    return [i for i in range(1,26) if i % 2 == 1]\n",
    "    "
   ]
  },
  {
   "cell_type": "code",
   "execution_count": 2,
   "id": "890d112c-1d1c-4d6e-93f2-994c7b440bbd",
   "metadata": {},
   "outputs": [
    {
     "data": {
      "text/plain": [
       "[1, 3, 5, 7, 9, 11, 13, 15, 17, 19, 21, 23, 25]"
      ]
     },
     "execution_count": 2,
     "metadata": {},
     "output_type": "execute_result"
    }
   ],
   "source": [
    "odd_num()"
   ]
  },
  {
   "cell_type": "markdown",
   "id": "90edfdd3-4f5c-45b7-9855-ec4f4aaac1ff",
   "metadata": {},
   "source": [
    "#Question 2 \n",
    "#Ans:\n",
    "*args:\n",
    "*args allows a function to accept a variable number of non-keyword arguments.\n",
    "The * operator specifies that any number of positional arguments can be passed to the function. \n",
    "The arguments are passed as a tuple to the function.\n",
    "**kwargs:\n",
    "**kwargs allows a function to accept a variable number of keyword arguments. \n",
    "The ** operator specifies that any number of keyword arguments can be passed to the function.\n",
    "The keyword arguments are passed as a dictionary to the function."
   ]
  },
  {
   "cell_type": "code",
   "execution_count": 3,
   "id": "d2ed4394-073a-4ae5-99f0-1fc9a76eee92",
   "metadata": {},
   "outputs": [],
   "source": [
    "#example of *args:\n",
    "def test(*args):\n",
    "    return args"
   ]
  },
  {
   "cell_type": "code",
   "execution_count": 4,
   "id": "1f62f4a5-be53-4ce0-a725-4c4044ac0bd1",
   "metadata": {},
   "outputs": [
    {
     "data": {
      "text/plain": [
       "(1, 2, 3, 'mira', 'dhara', [6, 7, 8, 9])"
      ]
     },
     "execution_count": 4,
     "metadata": {},
     "output_type": "execute_result"
    }
   ],
   "source": [
    "test(1,2,3,\"mira\",\"dhara\",[6,7,8,9])"
   ]
  },
  {
   "cell_type": "code",
   "execution_count": 5,
   "id": "fbf854f4-b483-4790-9738-9fcfb06c548f",
   "metadata": {},
   "outputs": [],
   "source": [
    "#example of **kwargs:\n",
    "def test1(**kwargs):\n",
    "    return kwargs"
   ]
  },
  {
   "cell_type": "code",
   "execution_count": 6,
   "id": "79cace4e-4076-4ffb-b0ff-68e4469dac20",
   "metadata": {},
   "outputs": [
    {
     "data": {
      "text/plain": [
       "{'a': 1, 'b': [1, 2, 3], 'c': 'mira'}"
      ]
     },
     "execution_count": 6,
     "metadata": {},
     "output_type": "execute_result"
    }
   ],
   "source": [
    "test1(a=1,b=[1,2,3],c=\"mira\")"
   ]
  },
  {
   "cell_type": "markdown",
   "id": "b3f0eedc-3e43-497c-ae08-e25e35c9e245",
   "metadata": {},
   "source": [
    "#Question 3 \n",
    "#Ans:\n",
    "An iterator in Python is an object that can be iterated (looped) upon. \n",
    "An object which returns data, one element at a time when iterated over.\n",
    "The object which implements the iterator protocol is called an iterator object.\n",
    "The method used to initialize an iterator object is iter(). The method used for iteration is next()."
   ]
  },
  {
   "cell_type": "code",
   "execution_count": 7,
   "id": "d966cf78-7713-4025-a3b2-20a0ba7ab740",
   "metadata": {},
   "outputs": [],
   "source": [
    "#Use these methods to print the first five elements of the given list [2, 4, 6, 8, 10, 12, 14,  16, 18, 20]. \n",
    "l1=[2,4,6,8,10,12,14,16,18,20]\n",
    "iterator=iter(l1)"
   ]
  },
  {
   "cell_type": "code",
   "execution_count": 8,
   "id": "782336da-7197-4c46-ba8c-f8cd18deac6b",
   "metadata": {},
   "outputs": [
    {
     "name": "stdout",
     "output_type": "stream",
     "text": [
      "2\n",
      "4\n",
      "6\n",
      "8\n",
      "10\n"
     ]
    }
   ],
   "source": [
    "for i in range(5):\n",
    "    print(next(iterator))"
   ]
  },
  {
   "cell_type": "markdown",
   "id": "aaa78e4a-0265-4c30-855e-98ea7133b602",
   "metadata": {},
   "source": [
    "#Question 4 What is a generator function in python? Why yield keyword is used? Give an example of a generator\n",
    "function.\n",
    "#Ans:\n",
    "A generator function in Python is a function that returns a generator iterator, which is an object that produces a sequence of values. Unlike regular functions, generator functions use the yield keyword instead of return to return a value.\n",
    "\n",
    "The yield keyword is used to produce a value and pause the function's execution.\n",
    "When the function is called again, it resumes where it left off, producing the next value in the sequence.\n",
    "This allows generator functions to produce a sequence of values lazily, one value at a time, instead of computing and returning the entire sequence at once, as regular functions do."
   ]
  },
  {
   "cell_type": "code",
   "execution_count": 9,
   "id": "bdc96fca-3797-4b7a-b44c-1f7a15fc0576",
   "metadata": {},
   "outputs": [],
   "source": [
    "#Here's an example of a generator function that generates the sequence of squares of the numbers:\n",
    "def squ():\n",
    "    for i in range(1,10):\n",
    "        yield i ** 2"
   ]
  },
  {
   "cell_type": "code",
   "execution_count": 10,
   "id": "03ba55a8-88dd-4d2f-9d11-dc9ff67e5a17",
   "metadata": {},
   "outputs": [],
   "source": [
    "iterator=squ()"
   ]
  },
  {
   "cell_type": "code",
   "execution_count": 11,
   "id": "014c7778-3427-46cc-90d5-823d3fd1c55e",
   "metadata": {},
   "outputs": [
    {
     "name": "stdout",
     "output_type": "stream",
     "text": [
      "1\n",
      "4\n",
      "9\n",
      "16\n",
      "25\n",
      "36\n",
      "49\n",
      "64\n",
      "81\n"
     ]
    }
   ],
   "source": [
    "for i in range(1,10):\n",
    "    print(next(iterator))"
   ]
  },
  {
   "cell_type": "markdown",
   "id": "d66157d6-a75b-455d-a29c-cbf1745c328b",
   "metadata": {},
   "source": [
    "#Question 5 Create a generator function for prime numbers less than 1000. Use the next() method to print the  first 20 prime numbers. \n"
   ]
  },
  {
   "cell_type": "code",
   "execution_count": 12,
   "id": "6e790b49-6fae-4f2e-8092-df7b0be21d23",
   "metadata": {},
   "outputs": [],
   "source": [
    "def prime():\n",
    "    primes=[]\n",
    "    for i in range(2,1000):\n",
    "        for j in primes:\n",
    "            if i % j == 0:\n",
    "                break\n",
    "        else:\n",
    "            primes.append(i)\n",
    "            yield i\n",
    "            \n",
    "                "
   ]
  },
  {
   "cell_type": "code",
   "execution_count": 13,
   "id": "75e8f5aa-accf-4db4-a061-3a7269fefac2",
   "metadata": {},
   "outputs": [],
   "source": [
    "iteret=prime()"
   ]
  },
  {
   "cell_type": "code",
   "execution_count": 14,
   "id": "522d4145-021f-4146-820d-37c1efcf9dc4",
   "metadata": {},
   "outputs": [
    {
     "name": "stdout",
     "output_type": "stream",
     "text": [
      "2\n",
      "3\n",
      "5\n",
      "7\n",
      "11\n",
      "13\n",
      "17\n",
      "19\n",
      "23\n",
      "29\n",
      "31\n",
      "37\n",
      "41\n",
      "43\n",
      "47\n",
      "53\n",
      "59\n",
      "61\n",
      "67\n",
      "71\n"
     ]
    }
   ],
   "source": [
    "for i in range(20):\n",
    "    print(next(iteret))"
   ]
  },
  {
   "cell_type": "code",
   "execution_count": 15,
   "id": "4c6b9fb4-ceb8-490e-b36d-73fd83001e85",
   "metadata": {},
   "outputs": [],
   "source": [
    "#Question 6 Write a python program to print the first 10 Fibonacci numbers using a while loop."
   ]
  },
  {
   "cell_type": "code",
   "execution_count": 16,
   "id": "eac45e94-8baf-4767-8125-674ea8205abd",
   "metadata": {},
   "outputs": [
    {
     "name": "stdout",
     "output_type": "stream",
     "text": [
      "0\n",
      "1\n",
      "1\n",
      "2\n",
      "3\n",
      "5\n",
      "8\n",
      "13\n",
      "21\n",
      "34\n"
     ]
    }
   ],
   "source": [
    "#Ans:\n",
    "#Ans:\n",
    "a=0\n",
    "b=1\n",
    "k=0\n",
    "while k < 10:\n",
    "    print(a)\n",
    "    c=a+b\n",
    "    a=b\n",
    "    b=c\n",
    "    k=k+1\n",
    "    "
   ]
  },
  {
   "cell_type": "markdown",
   "id": "dd73b277-b6e0-4aa0-82e5-ea14ec1bfd1a",
   "metadata": {},
   "source": [
    "#Question 7 Write a List Comprehension to iterate through the given string: ‘pwskills’.\n",
    "            Expected output: ['p', 'w', 's', 'k', 'i', 'l', 'l', 's']"
   ]
  },
  {
   "cell_type": "code",
   "execution_count": 17,
   "id": "bc50094d-6447-48a3-9006-32f195d7d872",
   "metadata": {},
   "outputs": [
    {
     "data": {
      "text/plain": [
       "['p', 'w', 's', 'k', 'i', 'l', 'l', 's']"
      ]
     },
     "execution_count": 17,
     "metadata": {},
     "output_type": "execute_result"
    }
   ],
   "source": [
    "#Ans:\n",
    "s1=\"pwskills\"\n",
    "[i for i in s1]"
   ]
  },
  {
   "cell_type": "markdown",
   "id": "b6d48831-b402-4674-886a-c91cc2a9e776",
   "metadata": {},
   "source": [
    "#Qustion 8 Write a python program to check whether a given number is Palindrome or not using a while loop."
   ]
  },
  {
   "cell_type": "code",
   "execution_count": 18,
   "id": "a7e4ddae-633e-4f47-8c8e-e14dfe89a53d",
   "metadata": {},
   "outputs": [
    {
     "name": "stdin",
     "output_type": "stream",
     "text": [
      "\n",
      " enter your number: 121\n"
     ]
    },
    {
     "name": "stdout",
     "output_type": "stream",
     "text": [
      "\n",
      " number is palindrom\n"
     ]
    }
   ],
   "source": [
    "#Ans:\n",
    "number=int(input(\"\\n enter your number:\"))\n",
    "temp=number\n",
    "reverse=0\n",
    "while number>0:\n",
    "    dig=number%10\n",
    "    reverse=reverse*10+dig\n",
    "    number=number//10\n",
    "if temp == reverse:\n",
    "    print(\"\\n number is palindrom\")\n",
    "else:\n",
    "    print(\"\\n number is not palindrom\")\n"
   ]
  },
  {
   "cell_type": "markdown",
   "id": "be428363-1bf1-4292-a161-62195852b2fc",
   "metadata": {},
   "source": [
    "#Question 9\n",
    "Write a code to print odd numbers from 1 to 100 using list comprehension. \n",
    "Note: Use a list comprehension to create a list from 1 to 100 and use another List comprehension to filter  out odd numbers. \n"
   ]
  },
  {
   "cell_type": "code",
   "execution_count": 19,
   "id": "e833556a-aede-4185-8bbe-baaa80f9d0f6",
   "metadata": {},
   "outputs": [
    {
     "data": {
      "text/plain": [
       "[1,\n",
       " 2,\n",
       " 3,\n",
       " 4,\n",
       " 5,\n",
       " 6,\n",
       " 7,\n",
       " 8,\n",
       " 9,\n",
       " 10,\n",
       " 11,\n",
       " 12,\n",
       " 13,\n",
       " 14,\n",
       " 15,\n",
       " 16,\n",
       " 17,\n",
       " 18,\n",
       " 19,\n",
       " 20,\n",
       " 21,\n",
       " 22,\n",
       " 23,\n",
       " 24,\n",
       " 25,\n",
       " 26,\n",
       " 27,\n",
       " 28,\n",
       " 29,\n",
       " 30,\n",
       " 31,\n",
       " 32,\n",
       " 33,\n",
       " 34,\n",
       " 35,\n",
       " 36,\n",
       " 37,\n",
       " 38,\n",
       " 39,\n",
       " 40,\n",
       " 41,\n",
       " 42,\n",
       " 43,\n",
       " 44,\n",
       " 45,\n",
       " 46,\n",
       " 47,\n",
       " 48,\n",
       " 49,\n",
       " 50,\n",
       " 51,\n",
       " 52,\n",
       " 53,\n",
       " 54,\n",
       " 55,\n",
       " 56,\n",
       " 57,\n",
       " 58,\n",
       " 59,\n",
       " 60,\n",
       " 61,\n",
       " 62,\n",
       " 63,\n",
       " 64,\n",
       " 65,\n",
       " 66,\n",
       " 67,\n",
       " 68,\n",
       " 69,\n",
       " 70,\n",
       " 71,\n",
       " 72,\n",
       " 73,\n",
       " 74,\n",
       " 75,\n",
       " 76,\n",
       " 77,\n",
       " 78,\n",
       " 79,\n",
       " 80,\n",
       " 81,\n",
       " 82,\n",
       " 83,\n",
       " 84,\n",
       " 85,\n",
       " 86,\n",
       " 87,\n",
       " 88,\n",
       " 89,\n",
       " 90,\n",
       " 91,\n",
       " 92,\n",
       " 93,\n",
       " 94,\n",
       " 95,\n",
       " 96,\n",
       " 97,\n",
       " 98,\n",
       " 99,\n",
       " 100]"
      ]
     },
     "execution_count": 19,
     "metadata": {},
     "output_type": "execute_result"
    }
   ],
   "source": [
    "#Ans:\n",
    "l1=range(1,101)\n",
    "[i for i in l1]"
   ]
  },
  {
   "cell_type": "code",
   "execution_count": 20,
   "id": "821914ec-2b47-4f28-beec-08e5f313f1fc",
   "metadata": {},
   "outputs": [
    {
     "data": {
      "text/plain": [
       "[1,\n",
       " 3,\n",
       " 5,\n",
       " 7,\n",
       " 9,\n",
       " 11,\n",
       " 13,\n",
       " 15,\n",
       " 17,\n",
       " 19,\n",
       " 21,\n",
       " 23,\n",
       " 25,\n",
       " 27,\n",
       " 29,\n",
       " 31,\n",
       " 33,\n",
       " 35,\n",
       " 37,\n",
       " 39,\n",
       " 41,\n",
       " 43,\n",
       " 45,\n",
       " 47,\n",
       " 49,\n",
       " 51,\n",
       " 53,\n",
       " 55,\n",
       " 57,\n",
       " 59,\n",
       " 61,\n",
       " 63,\n",
       " 65,\n",
       " 67,\n",
       " 69,\n",
       " 71,\n",
       " 73,\n",
       " 75,\n",
       " 77,\n",
       " 79,\n",
       " 81,\n",
       " 83,\n",
       " 85,\n",
       " 87,\n",
       " 89,\n",
       " 91,\n",
       " 93,\n",
       " 95,\n",
       " 97,\n",
       " 99]"
      ]
     },
     "execution_count": 20,
     "metadata": {},
     "output_type": "execute_result"
    }
   ],
   "source": [
    "[i for i in l1 if i % 2 == 1]"
   ]
  },
  {
   "cell_type": "code",
   "execution_count": null,
   "id": "14decd80-29aa-4af1-a4bb-d9d8a1a200c8",
   "metadata": {},
   "outputs": [],
   "source": []
  }
 ],
 "metadata": {
  "kernelspec": {
   "display_name": "Python 3 (ipykernel)",
   "language": "python",
   "name": "python3"
  },
  "language_info": {
   "codemirror_mode": {
    "name": "ipython",
    "version": 3
   },
   "file_extension": ".py",
   "mimetype": "text/x-python",
   "name": "python",
   "nbconvert_exporter": "python",
   "pygments_lexer": "ipython3",
   "version": "3.10.8"
  }
 },
 "nbformat": 4,
 "nbformat_minor": 5
}
