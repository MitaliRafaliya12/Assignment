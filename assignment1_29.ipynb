{
 "cells": [
  {
   "cell_type": "markdown",
   "id": "43b9df36-e9f4-4634-9eb8-e2a687ed5d62",
   "metadata": {},
   "source": [
    "#29th_jan_assignment"
   ]
  },
  {
   "cell_type": "markdown",
   "id": "1e920e29-1ffa-433f-9444-c30f21a5eda5",
   "metadata": {},
   "source": [
    "#Question 1\n",
    " Who developed Python Programming Language? \n",
    "\n",
    "#Ans:\n",
    "      Guido van Rossum developed paython programming language."
   ]
  },
  {
   "cell_type": "markdown",
   "id": "0b87965a-4dff-4c16-b4c3-62d4b5386971",
   "metadata": {},
   "source": [
    "#Question 2  Which type of Programming does Python support? \n",
    "\n",
    "#Ans:\n",
    "     Python support object oriented programming approach."
   ]
  },
  {
   "cell_type": "markdown",
   "id": "c57ab0b0-000c-4573-9c1c-3286187484e7",
   "metadata": {},
   "source": [
    "#Question 3  Is Python case sensitive when dealing with identifiers? \n",
    "\n",
    "#Ans:\n",
    "     Yes,python is case sensitive when dealing with identifiers."
   ]
  },
  {
   "cell_type": "markdown",
   "id": "4a522618-1517-424f-8a4b-a3eb1b9a2617",
   "metadata": {},
   "source": [
    "#Question 4 . What is the correct extension of the Python file? \n",
    "\n",
    "#Ans:\n",
    "      Python file extensions:\n",
    "                           1).py\n",
    "                           2).pyi\n",
    "                           3).pyc\n",
    "                           4).pyd\n",
    "                           5).pyo\n",
    "                           6).pyw\n",
    "                           7).pyz"
   ]
  },
  {
   "cell_type": "markdown",
   "id": "3f26d570-68fc-4d98-b0a8-028cf54eb182",
   "metadata": {},
   "source": [
    "#Question 5 . Is Python code compiled or interpreted\n",
    "#Ans: \n",
    "            Python code is an interpreted"
   ]
  },
  {
   "cell_type": "markdown",
   "id": "1dc71d59-9524-4881-a808-f370ad9f31b8",
   "metadata": {},
   "source": [
    "#Question 6 Name a few blocks of code used to define in Python language? \n",
    "\n",
    "#Ans:\n",
    "            Indentation is used to define a block of code in python "
   ]
  },
  {
   "cell_type": "markdown",
   "id": "1a9fcdcb-8fae-403e-8db6-de341745a936",
   "metadata": {},
   "source": [
    "#Question 7 State a character used to give single-line comments in Python? \n",
    "\n",
    "#Ans:\n",
    "        # character use to give single line comment in python"
   ]
  },
  {
   "cell_type": "markdown",
   "id": "c3ce481b-e805-491d-ad7d-5d521855a15e",
   "metadata": {},
   "source": [
    "#Question 8  Mention functions which can help us to find the version of python that we are currently working on? \n",
    "\n",
    "#Ans:\n",
    "        There are three methods to know the version of your python.\n",
    "        1) using python_version function\n",
    "        2)using sys.version method\n",
    "        3)using python -V command"
   ]
  },
  {
   "cell_type": "code",
   "execution_count": 19,
   "id": "612928e5-dcb3-4c23-a177-7da758063b6c",
   "metadata": {},
   "outputs": [
    {
     "name": "stdout",
     "output_type": "stream",
     "text": [
      "3.10.8\n"
     ]
    }
   ],
   "source": [
    "from platform import python_version\n",
    "print(python_version())"
   ]
  },
  {
   "cell_type": "code",
   "execution_count": 20,
   "id": "c6995a6b-45c5-4d69-b68c-31bd6856fa66",
   "metadata": {},
   "outputs": [
    {
     "name": "stdout",
     "output_type": "stream",
     "text": [
      "3.10.8 | packaged by conda-forge | (main, Nov 22 2022, 08:26:04) [GCC 10.4.0]\n"
     ]
    }
   ],
   "source": [
    "import sys\n",
    "print(sys.version)"
   ]
  },
  {
   "cell_type": "markdown",
   "id": "92fe0663-77e5-402a-9a33-5a0dcfcda3df",
   "metadata": {},
   "source": [
    "#Question 9  Python supports the creation of anonymous functions at runtime, using a construct called \n",
    "\n",
    "#Ans:\n",
    "        Python supports the creation of anonymous functions at runtime,using a construct called lambda"
   ]
  },
  {
   "cell_type": "markdown",
   "id": "23c54e1e-0237-4b7b-a44b-d193e782a5e9",
   "metadata": {},
   "source": [
    "#Question 10 What does pip stand for python? \n",
    "\n",
    "#Ans:\n",
    "       pip stands for Preferred installer program"
   ]
  },
  {
   "cell_type": "markdown",
   "id": "2c0ebb35-5a82-4b53-946d-018dfefa6397",
   "metadata": {},
   "source": [
    "#Question 11 Mention a few built-in functions in python? \n",
    "\n",
    "#Ans:\n",
    "        1)print()\n",
    "        2)range()\n",
    "        3)sum()\n",
    "        4)type()\n",
    "        5)reversed()\n",
    "        6)min()\n",
    "        7)max()\n",
    "        8)input()"
   ]
  },
  {
   "cell_type": "markdown",
   "id": "a423382a-a402-4977-8669-033717ff42ab",
   "metadata": {},
   "source": [
    "#Question 12 What is the maximum possible length of an identifier in Python? \n",
    "#Ans:\n",
    "        An idenfifier can have a maximum length of 79 characters in Python."
   ]
  },
  {
   "cell_type": "markdown",
   "id": "ce743f01-a198-4d81-aee1-d82f8b42f700",
   "metadata": {},
   "source": [
    "#Question 13 What are the benefits of using Python? \n",
    "\n",
    "#Ans:\n",
    "     Reasons to Learn Python:\n",
    "                            Data science.\n",
    "                            Scientific and mathematical computing.\n",
    "                            Web development.\n",
    "                            Finance and trading.\n",
    "                            System automation and administration.\n",
    "                            Computer graphics.\n",
    "                            Basic game development.\n",
    "                            Security and penetration testing."
   ]
  },
  {
   "cell_type": "markdown",
   "id": "d90f7c80-13af-4367-a66a-d050680e89da",
   "metadata": {},
   "source": [
    "#Question 14  \n",
    "#Ans:\n",
    "     Memory management in Python involves a private heap containing all Python objects and data structures.\n",
    "    The management of this private heap is ensured internally by the Python memory manager."
   ]
  },
  {
   "cell_type": "markdown",
   "id": "ab685ca4-a284-4ea4-8f39-9cbe31bd0110",
   "metadata": {},
   "source": [
    "#Question 15 How to install Python on Windows and set path variables?\n",
    "#Ans:  \n",
    "  Install python from this link https://www.python.org/downloads/\n",
    "After this, install it on your PC. Look for the location where PYTHON has been installed on your PC.\n",
    "\n",
    "###The complete path of python.exe can be added by:\n",
    "\n",
    "1.Right-clicking This PC and going to Properties.\n",
    "\n",
    "2.Clicking on the Advanced system settings in the menu on the left.\n",
    "\n",
    "3.Clicking on the Environment Variables button o​n the bottom right.\n",
    "\n",
    "4.In the System variables section, selecting the Path variable and clicking on Edit. The next screen will show all the directories that are currently a part of the PATH variable.\n",
    "\n",
    "5.Clicking on New and entering Python’s install directory."
   ]
  },
  {
   "cell_type": "markdown",
   "id": "13965565-8da9-4679-97ea-31bf7613094f",
   "metadata": {},
   "source": [
    "#Question 16 Is indentation required in python? \n",
    "\n",
    "#Ans:\n",
    "    Indentation is a very important and required in Python."
   ]
  }
 ],
 "metadata": {
  "kernelspec": {
   "display_name": "Python 3 (ipykernel)",
   "language": "python",
   "name": "python3"
  },
  "language_info": {
   "codemirror_mode": {
    "name": "ipython",
    "version": 3
   },
   "file_extension": ".py",
   "mimetype": "text/x-python",
   "name": "python",
   "nbconvert_exporter": "python",
   "pygments_lexer": "ipython3",
   "version": "3.10.8"
  }
 },
 "nbformat": 4,
 "nbformat_minor": 5
}
