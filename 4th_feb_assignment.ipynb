{
 "cells": [
  {
   "cell_type": "markdown",
   "id": "5709dc21-f5cb-4b3e-8c67-6d90178b4dc3",
   "metadata": {},
   "source": [
    "#Question 1 Create a python program to sort the given list of tuples based on integer value using a\n",
    "lambda function.\n",
    "[('Sachin Tendulkar', 34357), ('Ricky Ponting', 27483), ('Jack Kallis', 25534), ('Virat Kohli', 24936)]\n"
   ]
  },
  {
   "cell_type": "code",
   "execution_count": 33,
   "id": "0c758904-e22e-42e0-b0d8-9f415c017234",
   "metadata": {},
   "outputs": [
    {
     "name": "stdout",
     "output_type": "stream",
     "text": [
      "[('Virat Kohli', 24936), ('Jack Kallis', 25534), ('Ricky Ponting', 27483), ('Sachin Tendulkar', 34357)]\n"
     ]
    }
   ],
   "source": [
    "#Ans:\n",
    "l1=[('Sachin Tendulkar', 34357), ('Ricky Ponting', 27483), ('Jack Kallis', 25534), ('Virat Kohli', 24936)]\n",
    "\n",
    "l1.sort(key = lambda x : x[1])\n",
    "print(l1)\n"
   ]
  },
  {
   "cell_type": "markdown",
   "id": "a347abab-6d5a-4f30-85ab-d06d4f5fac80",
   "metadata": {},
   "source": [
    "#Question 2 Write a Python Program to find the squares of all the numbers in the given list of integers using\n",
    "lambda and map functions.\n",
    "[1, 2, 3, 4, 5, 6, 7, 8, 9, 10]"
   ]
  },
  {
   "cell_type": "code",
   "execution_count": 2,
   "id": "9b793e7e-c1df-4cab-aaaa-b5d74ecb62cc",
   "metadata": {},
   "outputs": [],
   "source": [
    "l1=[1,2,3,4,5,6,7,8,9,10]"
   ]
  },
  {
   "cell_type": "code",
   "execution_count": 13,
   "id": "f869dd48-30b1-49ab-904c-4ffc938c8542",
   "metadata": {},
   "outputs": [
    {
     "data": {
      "text/plain": [
       "[1, 4, 9, 16, 25, 36, 49, 64, 81, 100]"
      ]
     },
     "execution_count": 13,
     "metadata": {},
     "output_type": "execute_result"
    }
   ],
   "source": [
    "list(map(lambda i:i**2,l1))"
   ]
  },
  {
   "cell_type": "markdown",
   "id": "2d7bd6d5-ad8c-45de-843a-4f2563a19825",
   "metadata": {},
   "source": [
    "#Question 3 Write a python program to convert the given list of integers into a tuple of strings. Use map and\n",
    "lambda functions\n",
    "Given String: [1, 2, 3, 4, 5, 6, 7, 8, 9, 10]\n",
    "Expected output: ('1', '2', '3', '4', '5', '6', '7', '8', '9', '10')"
   ]
  },
  {
   "cell_type": "code",
   "execution_count": 14,
   "id": "ffad7dab-854e-4258-a2fa-e3f44328dccc",
   "metadata": {},
   "outputs": [],
   "source": [
    "l1=[1,2,3,4,5,6,7,8,9,10]"
   ]
  },
  {
   "cell_type": "code",
   "execution_count": 15,
   "id": "e6196ad2-cb59-4066-9290-d278057bbdb1",
   "metadata": {},
   "outputs": [
    {
     "data": {
      "text/plain": [
       "('1', '2', '3', '4', '5', '6', '7', '8', '9', '10')"
      ]
     },
     "execution_count": 15,
     "metadata": {},
     "output_type": "execute_result"
    }
   ],
   "source": [
    "tuple(map(lambda l1:str(l1),l1))"
   ]
  },
  {
   "cell_type": "markdown",
   "id": "bbb4115c-eeeb-42ce-8748-f7234e789e5d",
   "metadata": {},
   "source": [
    "#Question 4 Write a python program using reduce function to compute the product of a list containing numbers\n",
    "from 1 to 25."
   ]
  },
  {
   "cell_type": "code",
   "execution_count": 16,
   "id": "cdd067f8-d9d3-4cec-926e-6af10cdae773",
   "metadata": {},
   "outputs": [],
   "source": [
    "from functools import reduce"
   ]
  },
  {
   "cell_type": "code",
   "execution_count": 17,
   "id": "04801761-e142-4e20-a56b-777ac31e033b",
   "metadata": {},
   "outputs": [],
   "source": [
    "product=[1,2,3,4,5,6,7,8,9,10,11,12,13,14,15,16,17,18,19,20,21,22,23,24,25]"
   ]
  },
  {
   "cell_type": "code",
   "execution_count": 18,
   "id": "d8d45c21-6bad-4248-9ef9-620a98317de4",
   "metadata": {},
   "outputs": [
    {
     "data": {
      "text/plain": [
       "325"
      ]
     },
     "execution_count": 18,
     "metadata": {},
     "output_type": "execute_result"
    }
   ],
   "source": [
    "reduce(lambda x,y:x+y,product)"
   ]
  },
  {
   "cell_type": "markdown",
   "id": "18f192b7-9b9f-43de-aec0-30c9bcb42bd9",
   "metadata": {},
   "source": [
    "#Question 5 Write a python program to filter the numbers in a given list that are divisible by 2 and 3 using the\n",
    "filter function.\n",
    "[2, 3, 6, 9, 27, 60, 90, 120, 55, 46]"
   ]
  },
  {
   "cell_type": "code",
   "execution_count": null,
   "id": "6ca4c6f0-0abd-4ad1-8165-f00a26eb6980",
   "metadata": {},
   "outputs": [],
   "source": [
    "l1=[2, 3, 6, 9, 27, 60, 90, 120, 55, 46]"
   ]
  },
  {
   "cell_type": "code",
   "execution_count": 25,
   "id": "c5ed0b5e-b63a-4262-9b43-029ef165f123",
   "metadata": {},
   "outputs": [
    {
     "data": {
      "text/plain": [
       "[6]"
      ]
     },
     "execution_count": 25,
     "metadata": {},
     "output_type": "execute_result"
    }
   ],
   "source": [
    "list(filter(lambda x:x%2==0 and x%3==0,l1))"
   ]
  },
  {
   "cell_type": "markdown",
   "id": "dc6b2677-678d-4816-ad2b-d4a16ae47b36",
   "metadata": {},
   "source": [
    "#Question 6 Write a python program to find palindromes in the given list of strings using lambda and filter\n",
    "function.\n",
    "['python', 'php', 'aba', 'radar', 'level']"
   ]
  },
  {
   "cell_type": "code",
   "execution_count": 31,
   "id": "f3ff70ba-3aa6-45c8-b926-149cd505020b",
   "metadata": {},
   "outputs": [],
   "source": [
    "l1=['python', 'php', 'aba', 'radar', 'level']"
   ]
  },
  {
   "cell_type": "code",
   "execution_count": 32,
   "id": "f65a1731-0325-483d-921d-45e2221c71db",
   "metadata": {},
   "outputs": [
    {
     "data": {
      "text/plain": [
       "['php', 'aba', 'radar', 'level']"
      ]
     },
     "execution_count": 32,
     "metadata": {},
     "output_type": "execute_result"
    }
   ],
   "source": [
    "list(filter(lambda x:x==x[::-1],l1))"
   ]
  },
  {
   "cell_type": "code",
   "execution_count": null,
   "id": "115eb40d-5203-4e7e-b8c2-f2aa7f28daa4",
   "metadata": {},
   "outputs": [],
   "source": []
  }
 ],
 "metadata": {
  "kernelspec": {
   "display_name": "Python 3 (ipykernel)",
   "language": "python",
   "name": "python3"
  },
  "language_info": {
   "codemirror_mode": {
    "name": "ipython",
    "version": 3
   },
   "file_extension": ".py",
   "mimetype": "text/x-python",
   "name": "python",
   "nbconvert_exporter": "python",
   "pygments_lexer": "ipython3",
   "version": "3.10.8"
  }
 },
 "nbformat": 4,
 "nbformat_minor": 5
}
