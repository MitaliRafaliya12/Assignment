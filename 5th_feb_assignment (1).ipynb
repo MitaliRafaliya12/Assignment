{
 "cells": [
  {
   "cell_type": "markdown",
   "id": "20764553-13ae-473d-871f-bca01cc72813",
   "metadata": {},
   "source": [
    "#5th_feb_assignment"
   ]
  },
  {
   "cell_type": "markdown",
   "id": "58eee9b2-a8df-45b6-92a5-539e862e6052",
   "metadata": {},
   "source": [
    "#Question 1 Explain Class and Object with respect to Object-Oriented Programming. Give a suitable example. \n",
    "#Ans:  \n",
    "\n",
    "-> Python Classes\n",
    "A class is considered as a blueprint of objects.\n",
    "It is a classification of real word entity.\n",
    "We can think of the class as a sketch (prototype) of a house. \n",
    "It contains all the details about the floors, doors, windows, etc. Based on these descriptions we build the house. House is the object.\n",
    "Since many houses can be made from the same description, we can create many objects from a class.\n",
    "\n",
    "->Python Object\n",
    "An object is called an instance / variable of a class.\n",
    "it is a real word entity.\n",
    "An object is any entity that has attributes and behaviors. For example, a parrot is an object. It has\n",
    "    attributes - name, age, color, etc.\n",
    "    behavior - dancing, singing, etc."
   ]
  },
  {
   "cell_type": "code",
   "execution_count": 2,
   "id": "e6c15e0e-7d6b-4143-8a04-0029c6c06865",
   "metadata": {},
   "outputs": [],
   "source": [
    "#example:\n",
    "class test:\n",
    "    x=5"
   ]
  },
  {
   "cell_type": "code",
   "execution_count": 3,
   "id": "43b7b19f-f39d-4b4a-be9e-53c6ececd2c9",
   "metadata": {},
   "outputs": [],
   "source": [
    "object=test()"
   ]
  },
  {
   "cell_type": "code",
   "execution_count": 4,
   "id": "225d863a-68a5-4ea4-b30e-296301724090",
   "metadata": {},
   "outputs": [
    {
     "name": "stdout",
     "output_type": "stream",
     "text": [
      "5\n"
     ]
    }
   ],
   "source": [
    "print(object.x)"
   ]
  },
  {
   "cell_type": "markdown",
   "id": "6fba5dbf-6f60-47ed-91f9-bf3bf5429d77",
   "metadata": {},
   "source": [
    "#Question 2  Name the four pillars of OOPs. \n",
    "#Ans:\n",
    "There are four(4) basic principles for writing clean and concise code. \n",
    "These principles are called the four pillars of object-oriented programming (OOP). \n",
    "These four pillars are Inheritance, Polymorphism, Encapsulation and Abstraction.\n"
   ]
  },
  {
   "cell_type": "markdown",
   "id": "ee4e5b62-2904-431c-924e-e9fe1dd04d3b",
   "metadata": {},
   "source": [
    "#Question 3 Explain why the __init__() function is used. Give a suitable example.\n",
    "#Ans:\n",
    " The Default __init__ Constructor are used to initializing the object’s state. \n",
    "The task of constructors is to initialize(assign values) to the data members of the class when an object of the class is created.\n",
    "Like methods, a constructor also contains a collection of statements(i.e. instructions) that are executed at the time of Object creation.\n",
    "It is run as soon as an object of a class is instantiated. \n",
    "The method is useful to do any initialization you want to do with your object."
   ]
  },
  {
   "cell_type": "code",
   "execution_count": 5,
   "id": "4b538e70-9671-4234-9a10-9f71834c4730",
   "metadata": {},
   "outputs": [
    {
     "name": "stdout",
     "output_type": "stream",
     "text": [
      "Hello, my name is Nikhil\n"
     ]
    }
   ],
   "source": [
    "#example:\n",
    "# A Sample class with init method\n",
    "class Person:\n",
    "\n",
    "\t# init method or constructor\n",
    "\tdef __init__(self, name):\n",
    "\t\tself.name = name\n",
    "\n",
    "\t# Sample Method\n",
    "\tdef say_hi(self):\n",
    "\t\tprint('Hello, my name is', self.name)\n",
    "\n",
    "\n",
    "p = Person('Nikhil')\n",
    "p.say_hi()\n"
   ]
  },
  {
   "cell_type": "markdown",
   "id": "42772cd1-d3f5-4eeb-8814-688845dbc946",
   "metadata": {},
   "source": [
    "#Question 3 Why self is used in OOPs? \n",
    "#Ans:\n",
    "The self parameter is a reference to the current instance of the class, and is used to access variables that belongs to the class.\n",
    "It does not have to be named self , you can call it whatever you like, but it has to be the first parameter of any function in the class."
   ]
  },
  {
   "cell_type": "markdown",
   "id": "2b4e9739-c249-4010-a2da-a89f1219993a",
   "metadata": {},
   "source": [
    "#Question 4  What is inheritance? Give an example for each type of inheritance.\n",
    "#Ans:\n",
    "\n",
    "Inheritance is a process of obtaining properties and characteristics(variables and methods) of another class.\n",
    "In this hierarchical order, the class which inherits another class is called subclass or child class, and the other class is the parent class.\n",
    "\n"
   ]
  },
  {
   "cell_type": "code",
   "execution_count": 8,
   "id": "29b0ebb4-f2f4-4c8b-bc40-8beab2732033",
   "metadata": {},
   "outputs": [
    {
     "name": "stdout",
     "output_type": "stream",
     "text": [
      "This function is in parent class.\n",
      "This function is in child class.\n"
     ]
    }
   ],
   "source": [
    "# single inheritance\n",
    " \n",
    "# Base class\n",
    "class Parent:\n",
    "    def func1(self):\n",
    "        print(\"This function is in parent class.\")\n",
    " \n",
    "# Derived class\n",
    " \n",
    " \n",
    "class Child(Parent):\n",
    "    def func2(self):\n",
    "        print(\"This function is in child class.\")\n",
    " \n",
    " \n",
    "# Driver's code\n",
    "object = Child()\n",
    "object.func1()\n",
    "object.func2()"
   ]
  },
  {
   "cell_type": "code",
   "execution_count": 12,
   "id": "2c969a1f-2a1a-437a-a139-756f2412182d",
   "metadata": {},
   "outputs": [
    {
     "ename": "AttributeError",
     "evalue": "'Son' object has no attribute 'patents'",
     "output_type": "error",
     "traceback": [
      "\u001b[0;31m---------------------------------------------------------------------------\u001b[0m",
      "\u001b[0;31mAttributeError\u001b[0m                            Traceback (most recent call last)",
      "Cell \u001b[0;32mIn[12], line 32\u001b[0m\n\u001b[1;32m     30\u001b[0m s1\u001b[38;5;241m.\u001b[39mfathername \u001b[38;5;241m=\u001b[39m \u001b[38;5;124m\"\u001b[39m\u001b[38;5;124mRAM\u001b[39m\u001b[38;5;124m\"\u001b[39m\n\u001b[1;32m     31\u001b[0m s1\u001b[38;5;241m.\u001b[39mmothername \u001b[38;5;241m=\u001b[39m \u001b[38;5;124m\"\u001b[39m\u001b[38;5;124mSITA\u001b[39m\u001b[38;5;124m\"\u001b[39m\n\u001b[0;32m---> 32\u001b[0m \u001b[43ms1\u001b[49m\u001b[38;5;241;43m.\u001b[39;49m\u001b[43mpatents\u001b[49m()\n",
      "\u001b[0;31mAttributeError\u001b[0m: 'Son' object has no attribute 'patents'"
     ]
    }
   ],
   "source": [
    "\n",
    "# multiple inheritance\n",
    " \n",
    "# Base class1\n",
    "class Mother:\n",
    "    mothername = \"\"\n",
    " \n",
    "    def mother(self):\n",
    "        print(self.mothername)\n",
    " \n",
    "# Base class2\n",
    " \n",
    " \n",
    "class Father:\n",
    "    fathername = \"\"\n",
    " \n",
    "    def father(self):\n",
    "        print(self.fathername)\n",
    " \n",
    "# Derived class\n",
    " \n",
    " \n",
    "class Son(Mother, Father):\n",
    "    def parents(self):\n",
    "        print(\"Father :\", self.fathername)\n",
    "        print(\"Mother :\", self.mothername)\n",
    " \n",
    " \n",
    "# Driver's code\n",
    "s1 = Son()\n",
    "s1.fathername = \"RAM\"\n",
    "s1.mothername = \"SITA\"\n",
    "s1.parents()"
   ]
  },
  {
   "cell_type": "code",
   "execution_count": null,
   "id": "aa863d81-f38a-4737-9f61-5a073d48ccbf",
   "metadata": {},
   "outputs": [],
   "source": []
  }
 ],
 "metadata": {
  "kernelspec": {
   "display_name": "Python 3 (ipykernel)",
   "language": "python",
   "name": "python3"
  },
  "language_info": {
   "codemirror_mode": {
    "name": "ipython",
    "version": 3
   },
   "file_extension": ".py",
   "mimetype": "text/x-python",
   "name": "python",
   "nbconvert_exporter": "python",
   "pygments_lexer": "ipython3",
   "version": "3.10.8"
  }
 },
 "nbformat": 4,
 "nbformat_minor": 5
}
