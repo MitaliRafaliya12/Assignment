{
 "cells": [
  {
   "cell_type": "markdown",
   "id": "b7c155f3-1e48-4448-ad11-018d4d0aeed6",
   "metadata": {},
   "source": [
    "#2nd_feb_assignment "
   ]
  },
  {
   "cell_type": "markdown",
   "id": "59784813-6618-4035-9b70-e4de2b56e1c4",
   "metadata": {},
   "source": [
    "#Question 1   Explain with an example each when to use a for loop and a while loop. \n",
    "\n",
    "1. For loop:\n",
    "        A \"for\" loop is used to iterate over a sequence (such as a list, tuple, or string) and execute a block of code for each item in the sequence. \n",
    "        \n",
    "2. while loop\n",
    "        A \"while\" loop is used to repeatedly execute a block of code as long as a given condition is true."
   ]
  },
  {
   "cell_type": "code",
   "execution_count": 1,
   "id": "2d14d3ef-95f0-4469-b21b-bb0b923f78a9",
   "metadata": {},
   "outputs": [
    {
     "name": "stdout",
     "output_type": "stream",
     "text": [
      "apple\n",
      "banana\n",
      "cherry\n"
     ]
    }
   ],
   "source": [
    "#example of for loop:\n",
    "fruits = [\"apple\", \"banana\", \"cherry\"]\n",
    "for fruit in fruits:\n",
    "      print(fruit)"
   ]
  },
  {
   "cell_type": "code",
   "execution_count": 3,
   "id": "83ede586-18e8-4563-bc9c-415c80e2e1b2",
   "metadata": {},
   "outputs": [
    {
     "name": "stdout",
     "output_type": "stream",
     "text": [
      "0\n",
      "1\n",
      "2\n"
     ]
    }
   ],
   "source": [
    "#example of while loop:\n",
    "count = 0\n",
    "while count < 3:\n",
    "    print(count)\n",
    "    count = count + 1\n",
    "\n",
    "\n",
    "\n"
   ]
  },
  {
   "cell_type": "markdown",
   "id": "ec446a1e-d0e9-4fe5-95cc-feb80c71428a",
   "metadata": {},
   "source": [
    "#Question 2 \n",
    " Write a python program to print the sum and product of the first 10 natural numbers using for  and while loop. \n"
   ]
  },
  {
   "cell_type": "code",
   "execution_count": 5,
   "id": "79fffe6a-a828-40d8-bc7b-9ebbe7cf7f72",
   "metadata": {},
   "outputs": [
    {
     "name": "stdout",
     "output_type": "stream",
     "text": [
      "Sum of first 10 natural numbers: 55\n",
      "Product of first 10 natural numbers: 3628800\n"
     ]
    }
   ],
   "source": [
    "#Ans:\n",
    "#Useing a for loop:\n",
    "sum=0\n",
    "product=1\n",
    "for i in range(1,11):\n",
    "    sum=sum+i\n",
    "    product=product*i\n",
    "print(\"Sum of first 10 natural numbers:\", sum)\n",
    "print(\"Product of first 10 natural numbers:\", product)"
   ]
  },
  {
   "cell_type": "code",
   "execution_count": 7,
   "id": "3aa8801d-51e7-4eb4-8df0-d7cbbe642250",
   "metadata": {},
   "outputs": [
    {
     "name": "stdout",
     "output_type": "stream",
     "text": [
      "Sum of first 10 natural numbers: 55\n",
      "Product of first 10 natural numbers: 3628800\n"
     ]
    }
   ],
   "source": [
    "#Useing a while loop:\n",
    "sum=0\n",
    "product=1\n",
    "i=1\n",
    "while i <= 10:\n",
    "    sum=sum+i\n",
    "    product =product*i\n",
    "    i=i+1\n",
    "print(\"Sum of first 10 natural numbers:\", sum)\n",
    "print(\"Product of first 10 natural numbers:\", product)"
   ]
  },
  {
   "cell_type": "markdown",
   "id": "3fdff5cc-2217-496e-9e68-39de6ff65d76",
   "metadata": {},
   "source": [
    "#Question 3 Create a python program to compute the electricity bill for a household. \n",
    "The per-unit charges in rupees are as follows: For the first 100 units, the user will be charged Rs. 4.5 per  unit, for the next 100 units, the user will be charged Rs. 6 per unit, and for the next 100 units, the user will  be charged Rs. 10 per unit, After 300 units and above the user will be charged Rs. 20 per unit. \n",
    "You are required to take the units of electricity consumed in a month from the user as input. \n",
    "Your program must pass this test case: when the unit of electricity consumed by the user in a month is  310, the total electricity bill should be 2250. \n"
   ]
  },
  {
   "cell_type": "code",
   "execution_count": 16,
   "id": "173e7dd1-effb-4d14-bc6e-cb5cfb9053b5",
   "metadata": {},
   "outputs": [
    {
     "name": "stdin",
     "output_type": "stream",
     "text": [
      "\n",
      " enter the total units: 310\n"
     ]
    },
    {
     "name": "stdout",
     "output_type": "stream",
     "text": [
      "2250.0\n"
     ]
    }
   ],
   "source": [
    "t_unit=int(input(\"\\n enter the total units:\"))\n",
    "if t_unit <= 100:\n",
    "    charge=t_unit * 4.5\n",
    "    print(charge)\n",
    "elif t_unit <= 200:\n",
    "    charge=(100 * 4.5)+((t_unit-100)*6)\n",
    "    print(charge) \n",
    "elif t_unit <= 300:\n",
    "    charge=(100 * 4.5)+(100 * 6)+((t_unit-200)*10)\n",
    "    print(charge)\n",
    "else:\n",
    "    charge=(100 * 4.5)+(100 * 6)+(100*10)+((t_unit-300)*20)\n",
    "    print(charge)"
   ]
  },
  {
   "cell_type": "markdown",
   "id": "2650b09a-4bc8-4d14-9680-11fa52ab2bfc",
   "metadata": {},
   "source": [
    "#Question 4:\n",
    "Create a list of numbers from 1 to 100. Use for loop and while loop to calculate the cube of each\n",
    "number and if the cube of that number is divisible by 4 or 5 then append that number in a list and print\n",
    "that list."
   ]
  },
  {
   "cell_type": "code",
   "execution_count": 34,
   "id": "09194e6c-65b4-4c62-a912-7f3ad8e59420",
   "metadata": {},
   "outputs": [
    {
     "name": "stdout",
     "output_type": "stream",
     "text": [
      "[1, 2, 3, 4, 5, 6, 7, 8, 9, 10, 11, 12, 13, 14, 15, 16, 17, 18, 19, 20, 21, 22, 23, 24, 25, 26, 27, 28, 29, 30, 31, 32, 33, 34, 35, 36, 37, 38, 39, 40, 41, 42, 43, 44, 45, 46, 47, 48, 49, 50, 51, 52, 53, 54, 55, 56, 57, 58, 59, 60, 61, 62, 63, 64, 65, 66, 67, 68, 69, 70, 71, 72, 73, 74, 75, 76, 77, 78, 79, 80, 81, 82, 83, 84, 85, 86, 87, 88, 89, 90, 91, 92, 93, 94, 95, 96, 97, 98, 99, 100]\n",
      "[8, 64, 125, 216, 512, 1000, 1728, 2744, 3375, 4096, 5832, 8000, 10648, 13824, 15625, 17576, 21952, 27000, 32768, 39304, 42875, 46656, 54872, 64000, 74088, 85184, 91125, 97336, 110592, 125000, 140608, 157464, 166375, 175616, 195112, 216000, 238328, 262144, 274625, 287496, 314432, 343000, 373248, 405224, 421875, 438976, 474552, 512000, 551368, 592704, 614125, 636056, 681472, 729000, 778688, 830584, 857375, 884736, 941192, 1000000]\n"
     ]
    }
   ],
   "source": [
    "l=list(range(1,101))\n",
    "print(l)\n",
    "l2=[]\n",
    "for i in l:\n",
    "    cube=i*i*i\n",
    "    if cube%4==0 or cube%5==0:\n",
    "        l2.append(cube)\n",
    "print(l2)"
   ]
  },
  {
   "cell_type": "code",
   "execution_count": 35,
   "id": "aae7b5fc-a01b-413e-902c-eb608540927e",
   "metadata": {},
   "outputs": [
    {
     "name": "stdout",
     "output_type": "stream",
     "text": [
      "[8, 64, 125, 216, 512, 1000, 1728, 2744, 3375, 4096, 5832, 8000, 10648, 13824, 15625, 17576, 21952, 27000, 32768, 39304, 42875, 46656, 54872, 64000, 74088, 85184, 91125, 97336, 110592, 125000, 140608, 157464, 166375, 175616, 195112, 216000, 238328, 262144, 274625, 287496, 314432, 343000, 373248, 405224, 421875, 438976, 474552, 512000, 551368, 592704, 614125, 636056, 681472, 729000, 778688, 830584, 857375, 884736, 941192, 1000000, 8, 64, 125, 216, 512, 1000, 1728, 2744, 3375, 4096, 5832, 8000, 10648, 13824, 15625, 17576, 21952, 27000, 32768, 39304, 42875, 46656, 54872, 64000, 74088, 85184, 91125, 97336, 110592, 125000, 140608, 157464, 166375, 175616, 195112, 216000, 238328, 262144, 274625, 287496, 314432, 343000, 373248, 405224, 421875, 438976, 474552, 512000, 551368, 592704, 614125, 636056, 681472, 729000, 778688, 830584, 857375, 884736, 941192, 1000000]\n"
     ]
    }
   ],
   "source": [
    "i=1\n",
    "while i<= 100:\n",
    "    cube=i*i*i\n",
    "    if cube%4==0 or cube%5==0:\n",
    "        l3.append(cube)\n",
    "    i=i+1\n",
    "print(l3)"
   ]
  },
  {
   "cell_type": "markdown",
   "id": "6f2ccf02-7615-490f-bcb8-57a36fdb357f",
   "metadata": {},
   "source": [
    "#Question 5:\n",
    " Write a program to filter count vowels in the below-given string. \n",
    "string = \"I want to become a data scientist\" \n"
   ]
  },
  {
   "cell_type": "code",
   "execution_count": 36,
   "id": "7ebb9c31-bf19-498b-abb1-b9cca8a4dbdd",
   "metadata": {},
   "outputs": [],
   "source": [
    "#Ans:\n",
    "s1=\"I want to become data scientist\""
   ]
  },
  {
   "cell_type": "code",
   "execution_count": 44,
   "id": "4d9a8046-a008-4950-8ef5-67c97c2c67a5",
   "metadata": {},
   "outputs": [
    {
     "data": {
      "text/plain": [
       "'I want to become data scientist'"
      ]
     },
     "execution_count": 44,
     "metadata": {},
     "output_type": "execute_result"
    }
   ],
   "source": [
    "s1"
   ]
  },
  {
   "cell_type": "code",
   "execution_count": 61,
   "id": "d7f02a8d-4a35-416e-a813-afe897455c47",
   "metadata": {},
   "outputs": [
    {
     "name": "stdout",
     "output_type": "stream",
     "text": [
      "10\n"
     ]
    }
   ],
   "source": [
    "count=0\n",
    "for i in s1:\n",
    "    if i=='a' or i=='e' or i=='i' or i=='o' or i=='u':\n",
    "        count=count+1\n",
    "print(count)"
   ]
  },
  {
   "cell_type": "code",
   "execution_count": null,
   "id": "1b60d0b9-1457-4fdc-95d8-630358e8d5aa",
   "metadata": {},
   "outputs": [],
   "source": []
  }
 ],
 "metadata": {
  "kernelspec": {
   "display_name": "Python 3 (ipykernel)",
   "language": "python",
   "name": "python3"
  },
  "language_info": {
   "codemirror_mode": {
    "name": "ipython",
    "version": 3
   },
   "file_extension": ".py",
   "mimetype": "text/x-python",
   "name": "python",
   "nbconvert_exporter": "python",
   "pygments_lexer": "ipython3",
   "version": "3.10.8"
  }
 },
 "nbformat": 4,
 "nbformat_minor": 5
}
