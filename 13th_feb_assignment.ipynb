{
 "cells": [
  {
   "cell_type": "code",
   "execution_count": 1,
   "id": "16e4db69-9683-4970-870c-840dacbb90b0",
   "metadata": {},
   "outputs": [],
   "source": [
    "#13th_feb_assignment"
   ]
  },
  {
   "cell_type": "markdown",
   "id": "f32b63d7-ee5f-491e-a647-6c9b0f6381a4",
   "metadata": {},
   "source": [
    "Q1. Explain why we have to use the Exception class while creating a Custom Exception in python.\n",
    "#ANS:\n",
    "When creating a custom exception in Python, it's important to inherit from the built-in Exception class because this allows the new exception class to inherit all the necessary behaviors and properties of the base Exception class, such as handling, raising, and printing error messages.\n",
    "\n",
    "By using the Exception class as a base class for our custom exception, we can ensure that the new exception is compatible with the existing Python exception handling system, making it easier to identify and handle errors in our code. Additionally, it allows us to catch specific exceptions and perform appropriate actions in response to those exceptions.\n"
   ]
  },
  {
   "cell_type": "markdown",
   "id": "1f219159-aff9-4555-93b6-c2900e0e62f2",
   "metadata": {},
   "source": [
    "Q2. Write a python program to print Python Exception Hierarchy."
   ]
  },
  {
   "cell_type": "code",
   "execution_count": 3,
   "id": "d783d4e5-f852-45e3-9816-892b4b6d18aa",
   "metadata": {},
   "outputs": [
    {
     "name": "stdout",
     "output_type": "stream",
     "text": [
      "Exception: BaseException\n",
      "GeneratorExit: BaseException\n",
      "SystemExit: BaseException\n",
      "KeyboardInterrupt: BaseException\n",
      "CancelledError: BaseException\n",
      "AbortThread: BaseException\n"
     ]
    }
   ],
   "source": [
    "import sys\n",
    "\n",
    "# Iterate through the base Exception class to get all the exception classes\n",
    "for exc in BaseException.__subclasses__():\n",
    "    # Print the exception class and its base classes\n",
    "    print(f\"{exc.__name__}: {', '.join([b.__name__ for b in exc.__bases__])}\")"
   ]
  },
  {
   "cell_type": "markdown",
   "id": "2a8a3714-8d15-4f90-bdc1-b41579ec4ea5",
   "metadata": {},
   "source": []
  },
  {
   "cell_type": "markdown",
   "id": "db98aad7-f075-4bb6-a9f6-7080c01658ca",
   "metadata": {},
   "source": [
    "Q3. What errors are defined in the ArithmeticError class? Explain any two with an example.\n",
    "#ANS :\n",
    "The ArithmeticError class is a built-in exception class in Python that serves as the base class for exceptions that are related to arithmetic operations.\n",
    "This class defines several sub-classes that represent specific types of arithmetic errors.\n",
    "Two examples of specific exceptions that are defined in the ArithmeticError class are:\n",
    "\n",
    "1) ZeroDivisionError:\n",
    "                    This exception is raised when attempting to divide a number by zero.\n",
    "                    \n",
    "2) OverflowError: \n",
    "                    This exception is raised when a calculation exceeds the maximum representable value for a numeric type."
   ]
  },
  {
   "cell_type": "code",
   "execution_count": 4,
   "id": "c1676d78-1ab8-4b0b-bcaa-6b7a335f9c2a",
   "metadata": {},
   "outputs": [
    {
     "name": "stdout",
     "output_type": "stream",
     "text": [
      "Error: Cannot divide by zero\n"
     ]
    }
   ],
   "source": [
    "#examples :\n",
    "a = 10\n",
    "b = 0\n",
    "try:\n",
    "    c = a / b\n",
    "except ZeroDivisionError:\n",
    "    print(\"Error: Cannot divide by zero\")"
   ]
  },
  {
   "cell_type": "code",
   "execution_count": 5,
   "id": "cff2e70a-4372-4ba4-bb74-e8919f0358f6",
   "metadata": {},
   "outputs": [
    {
     "name": "stdout",
     "output_type": "stream",
     "text": [
      "Error: Calculation result is too large\n"
     ]
    }
   ],
   "source": [
    "import math\n",
    "try:\n",
    "    x = math.exp(1000)\n",
    "except OverflowError:\n",
    "    print(\"Error: Calculation result is too large\")"
   ]
  },
  {
   "cell_type": "markdown",
   "id": "80d7fd42-6947-4583-b2c8-02925209b365",
   "metadata": {},
   "source": [
    "Q4. Why LookupError class is used? Explain with an example KeyError and IndexError.\n",
    "#ANS :\n",
    "    The LookupError is a built-in exception class in Python that serves as the base class for exceptions that occur when a key or index is    not found in a sequence or mapping.  The LookupError is useful because it allows us to catch any exception that is related to a lookup error, regardless of whether it is an   IndexError or KeyError, and handle it appropriately.\n",
    "Two examples of specific exceptions that inherit from the LookupError class are:"
   ]
  },
  {
   "cell_type": "code",
   "execution_count": 6,
   "id": "51c7f0de-a771-4081-b608-a83c2ed9ae7a",
   "metadata": {},
   "outputs": [
    {
     "name": "stdout",
     "output_type": "stream",
     "text": [
      "Error: Key not found in dictionary\n"
     ]
    }
   ],
   "source": [
    "#keyerror\n",
    "d = {\"a\": 1, \"b\": 2}\n",
    "try:\n",
    "    x = d[\"c\"]\n",
    "except KeyError:\n",
    "    print(\"Error: Key not found in dictionary\")"
   ]
  },
  {
   "cell_type": "code",
   "execution_count": 8,
   "id": "de60dfeb-ebd2-4b38-b1b8-78239d1f4c36",
   "metadata": {},
   "outputs": [
    {
     "name": "stdout",
     "output_type": "stream",
     "text": [
      "Error: Index out of range\n"
     ]
    }
   ],
   "source": [
    "#indexerror\n",
    "l = [1, 2, 3]\n",
    "try:\n",
    "    x = l[3]\n",
    "except IndexError:\n",
    "    print(\"Error: Index out of range\")"
   ]
  },
  {
   "cell_type": "markdown",
   "id": "e0e06a34-fdf6-43e1-bfa0-15ebe440eb2e",
   "metadata": {},
   "source": [
    "Q5. Explain ImportError. What is ModuleNotFoundError?\n",
    "#ANS :\n",
    "ImportError is a built-in exception class in Python that is raised when an imported module cannot be found or loaded.\n",
    "This can occur for a variety of reasons, such as a misspelled module name, a missing module file, or a problem with the module's code.\n",
    "In Python 3.6 and later versions, the ImportError exception has been replaced with a more specific exception called ModuleNotFoundError. This exception is raised when a module is not found in the specified search path."
   ]
  },
  {
   "cell_type": "markdown",
   "id": "2192f4a4-b4b6-495c-a06f-c1af5da34981",
   "metadata": {},
   "source": [
    "Q6. List down some best practices for exception handling in python.\n",
    "#ANS :\n",
    "    \n",
    "    Handle specific exceptions: Whenever possible, catch specific exceptions rather than catching the more general Exception class. This will make your code more readable and make it easier to diagnose and fix problems.\n",
    "\n",
    "    Keep try blocks as small as possible: Try to keep the amount of code within a try block as small as possible, so that you can pinpoint the exact location of an error if one occurs.\n",
    "\n",
    "    Don't use exceptions for normal program flow: Exceptions should be reserved for unexpected errors or exceptional conditions, not for normal program flow. Using exceptions for normal program flow can make your code harder to read and can slow down your program.\n",
    "\n",
    "    Avoid catching generic exceptions: Avoid catching generic exceptions like Exception or BaseException, as they can mask errors and make it harder to debug your code.\n",
    "\n",
    "    Use finally blocks to clean up resources: If your code uses resources like files or network connections, use a finally block to ensure that those resources are properly cleaned up, even if an exception is raised.\n",
    "\n",
    "    Log exceptions: Use a logging library to log exceptions, so that you can monitor and debug your code more easily.\n",
    "\n",
    "    Reraise exceptions sparingly: If you catch an exception and need to re-raise it, do so sparingly and only after taking appropriate actions, like logging the error or cleaning up resources.\n",
    "    \n",
    "    By following these best practices, you can write more robust and maintainable code that handles exceptions effectively and gracefully.\n"
   ]
  }
 ],
 "metadata": {
  "kernelspec": {
   "display_name": "Python 3 (ipykernel)",
   "language": "python",
   "name": "python3"
  },
  "language_info": {
   "codemirror_mode": {
    "name": "ipython",
    "version": 3
   },
   "file_extension": ".py",
   "mimetype": "text/x-python",
   "name": "python",
   "nbconvert_exporter": "python",
   "pygments_lexer": "ipython3",
   "version": "3.10.8"
  }
 },
 "nbformat": 4,
 "nbformat_minor": 5
}
