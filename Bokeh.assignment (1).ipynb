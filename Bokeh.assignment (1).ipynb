{
 "cells": [
  {
   "cell_type": "markdown",
   "id": "070dc7f1-14a0-42d9-9a7e-c8ce2e25c7e6",
   "metadata": {},
   "source": [
    "Q1. How can you create a Bokeh plot using Python code?\n",
    "\n",
    "pip install bokeh\n",
    "from bokeh.plotting import figure, output_file, show\n",
    "\n",
    "# create the plot\n",
    "plot = figure(title=\"My Bokeh Plot\", x_axis_label='X', y_axis_label='Y', plot_width=800, plot_height=400)\n",
    "\n",
    "# add data to the plot\n",
    "plot.circle([1, 2, 3, 4, 5], [6, 7, 2, 4, 5], size=10, color=\"navy\", alpha=0.5)\n",
    "\n",
    "# save and show the plot\n",
    "output_file(\"my_plot.html\")\n",
    "show(plot)"
   ]
  },
  {
   "cell_type": "markdown",
   "id": "ba7cd3b3-4134-405a-8676-e0f8cee485ce",
   "metadata": {},
   "source": [
    "Q2. What are glyphs in Bokeh, and how can you add them to a Bokeh plot? Explain with an example."
   ]
  },
  {
   "cell_type": "markdown",
   "id": "81132937-eaf4-4a87-a737-4f366438328a",
   "metadata": {},
   "source": [
    "In Bokeh, glyphs are the basic visual building blocks for creating plots. They represent the visual shape or symbol used to represent the data points in the plot, such as circles, squares, triangles, lines, etc. Glyphs can be customized in various ways, such as changing their size, color, transparency, and other properties.\n",
    "\n",
    "Here is an example of how to add glyphs to a Bokeh plot:\n",
    "\n",
    "<!-- from bokeh.plotting import figure, output_file, show\n",
    "\n",
    "# create the plot\n",
    "plot = figure(title=\"My Bokeh Plot\", x_axis_label='X', y_axis_label='Y', plot_width=800, plot_height=400)\n",
    "\n",
    "# add a circle glyph\n",
    "plot.circle([1, 2, 3, 4, 5], [6, 7, 2, 4, 5], size=10, color=\"navy\", alpha=0.5)\n",
    "\n",
    "# add a square glyph\n",
    "plot.square([1, 2, 3, 4, 5], [6, 7, 2, 4, 5], size=10, color=\"firebrick\", alpha=0.5)\n",
    "\n",
    "# add a line glyph\n",
    "plot.line([1, 2, 3, 4, 5], [6, 7, 2, 4, 5], line_width=2, color=\"green\")\n",
    "\n",
    "# save and show the plot\n",
    "output_file(\"my_plot.html\")\n",
    "show(plot) -->"
   ]
  },
  {
   "cell_type": "markdown",
   "id": "1cdcab5d-bbba-4673-b619-c7b4273ed033",
   "metadata": {},
   "source": [
    "Q3. How can you customize the appearance of a Bokeh plot, including the axes, title, and legend?\n",
    "\n",
    "Customize the plot title and axes: You can customize the plot title, x-axis label, and y-axis label using the title, x_axis_label, and y_axis_label properties of the figure() function, respectively. \n",
    "For example:\n",
    "<!-- plot = figure(title=\"My Bokeh Plot\", x_axis_label='X', y_axis_label='Y', plot_width=800, plot_height=400) -->\n",
    "\n",
    "Customize the legend: You can add a legend to your Bokeh plot by setting the legend_label property of each glyph method. \n",
    "For example:\n",
    "<!-- plot.circle([1, 2, 3, 4, 5], [6, 7, 2, 4, 5], size=10, color=\"navy\", alpha=0.5, legend_label=\"Circle\")\n",
    "plot.square([1, 2, 3, 4, 5], [6, 7, 2, 4, 5], size=10, color=\"firebrick\", alpha=0.5, legend_label=\"Square\")\n",
    "plot.legend.location = \"top_left\" -->\n",
    "\n"
   ]
  },
  {
   "cell_type": "markdown",
   "id": "4f8d59c4-96ab-4b7e-b1dc-96702d519a19",
   "metadata": {},
   "source": [
    "Q4. What is a Bokeh server, and how can you use it to create interactive plots that can be updated in\n",
    "real time.\n",
    "\n",
    "A Bokeh server is a Python script that allows you to create interactive plots that can be updated in real-time. The Bokeh server is built on top of Tornado, a Python web framework, and allows you to create and serve interactive visualizations from your Python code.\n",
    "\n",
    "To use the Bokeh server, you first create a Python script that defines the layout and properties of your Bokeh plot. Then, you start the Bokeh server using the bokeh serve command, which runs the Python script as a web application on a local server.\n",
    "\n",
    "Here's an example of how to use the Bokeh server to create an interactive plot that updates in real-time."
   ]
  },
  {
   "cell_type": "markdown",
   "id": "7a83e500-f477-4215-be0e-84875af435ce",
   "metadata": {},
   "source": [
    "Q5. How can you embed a Bokeh plot into a web page or dashboard using Flask or Django?\n",
    "\n",
    "<!-- from flask import Flask, render_template\n",
    "from bokeh.embed import components\n",
    "from bokeh.plotting import figure\n",
    "from bokeh.resources import INLINE\n",
    "\n",
    "app = Flask(__name__)\n",
    "\n",
    "@app.route('/')\n",
    "def index():\n",
    "    # create a Bokeh plot\n",
    "    plot = figure(plot_width=400, plot_height=400)\n",
    "    plot.circle([1, 2, 3, 4, 5], [2, 5, 8, 3, 6])\n",
    "\n",
    "    # generate the script and div components for the plot\n",
    "    script, div = components(plot, INLINE)\n",
    "\n",
    "    # render the template with the script and div components\n",
    "    return render_template('index.html', script=script, div=div)\n",
    "\n",
    "if __name__ == '__main__':\n",
    "    app.run(debug=True) -->"
   ]
  }
 ],
 "metadata": {
  "kernelspec": {
   "display_name": "Python 3 (ipykernel)",
   "language": "python",
   "name": "python3"
  },
  "language_info": {
   "codemirror_mode": {
    "name": "ipython",
    "version": 3
   },
   "file_extension": ".py",
   "mimetype": "text/x-python",
   "name": "python",
   "nbconvert_exporter": "python",
   "pygments_lexer": "ipython3",
   "version": "3.10.8"
  }
 },
 "nbformat": 4,
 "nbformat_minor": 5
}
