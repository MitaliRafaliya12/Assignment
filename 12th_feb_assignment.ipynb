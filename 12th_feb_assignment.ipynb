{
 "cells": [
  {
   "cell_type": "code",
   "execution_count": 1,
   "id": "6f448d52-d723-4d72-8b03-92fb0287ccd1",
   "metadata": {},
   "outputs": [],
   "source": [
    "#12th_feb_assignment"
   ]
  },
  {
   "cell_type": "markdown",
   "id": "9f492e30-1764-4ffc-9d50-0d093694b3ed",
   "metadata": {},
   "source": [
    "#QUS1 What is an Exception in python? Write the different between Exception and syntax error.\n",
    "#Ans: \n",
    "In Python, an exception is an event that occurs during the execution of a program that disrupts the normal flow of instructions.\n",
    "It's an error that occurs at runtime and can be handled using exception handling mechanism in Python.\n",
    "\n",
    "For example, a division by zero error, accessing a file that doesn't exist, or trying to use an undefined variable can all raise exceptions. \n",
    "The Python Standard Library provides many built-in exceptions that you can catch and handle in your code to handle various errors.\n",
    "\n",
    "On the other hand, a syntax error is a type of error that occurs when the code violates the grammar rules of the programming language,\n",
    "such as incorrect indentation or missing colons. These errors are usually caught at the time the code is parsed and compiled, rather than at runtime.\n",
    "Because syntax errors stop the code from being executed, they need to be fixed before the code can run.\n",
    "\n",
    "In summary, exceptions are runtime errors that can be handled in your code, while syntax errors are compile-time errors that need to be fixed \n",
    "before your code can run."
   ]
  },
  {
   "cell_type": "markdown",
   "id": "e5a842a4-8a58-4cdf-9b4f-6afeb1bdfc7e",
   "metadata": {},
   "source": [
    "#Qus2 What happens when exception is not handled in python? Explain with example.\n",
    "#Ans:\n",
    "When an exception is not handled in Python, the program will stop executing and a traceback message will be displayed.\n",
    "The traceback message provides information about the error, including the type of exception that was raised, the line of code that caused the exception, and the call stack."
   ]
  },
  {
   "cell_type": "markdown",
   "id": "a0a15664-688b-4a4f-bcc1-633182ebbbae",
   "metadata": {},
   "source": [
    "#QUS3: Which Python statements are used to  catch and handle exceptions? Explain with example\n",
    "#ANS:\n",
    "In Python, exceptions are caught and handled using the try and except statements.\n",
    "The try statement is used to enclose the code that might raise an exception, and the except statement\n",
    "is used to catch and handle the exception if it occurs.\n",
    "\n",
    "Here is an example of how you can use the try and except statements to catch and handle a ZeroDivisionError exception:"
   ]
  },
  {
   "cell_type": "code",
   "execution_count": 2,
   "id": "0dc4e5a2-5425-4d35-86cc-3766e64676d1",
   "metadata": {},
   "outputs": [
    {
     "name": "stdout",
     "output_type": "stream",
     "text": [
      "5.0\n",
      "division by zero\n",
      "None\n"
     ]
    }
   ],
   "source": [
    "def divide(x, y):\n",
    "    try:\n",
    "        result = x / y\n",
    "    except ZeroDivisionError:\n",
    "        print(\"division by zero\")\n",
    "    else:\n",
    "        return result\n",
    "\n",
    "print(divide(10, 2)) # Output: 5.0\n",
    "print(divide(10, 0)) # Output: division by zero"
   ]
  },
  {
   "cell_type": "markdown",
   "id": "d57c033f-e8f0-403a-b0c6-39a744c7d993",
   "metadata": {},
   "source": [
    "#QUS4 Explain with example:\n",
    "1 try and else :\n",
    "                    The try and else statements in Python can be used together to handle \n",
    "        exceptions and to execute code when an exception is not raised. The else statement is executed\n",
    "        only if the try block of code completes without raising an exception.\n",
    "2 finally :\n",
    "                    The finally statement in Python is used to specify code that should always be executed,\n",
    "        regardless of whether an exception is raised or not. The code in the finally block is executed after the code \n",
    "        in the try block has completed, and before the code in any except blocks.\n",
    "        \n",
    "3 raise :\n",
    "                    The raise keyword in Python is used to manually raise an exception.\n",
    "        Raising an exception allows you to interrupt the normal flow of your program and propagate the error up the call\n",
    "        stack to be handled by an exception handler.\n",
    "                    The raise keyword takes an exception object as its argument.\n",
    "        You can either raise a built-in exception, such as ZeroDivisionError or ValueError, or you can define your own custom exception."
   ]
  },
  {
   "cell_type": "code",
   "execution_count": 3,
   "id": "c9bef3ae-3686-49b8-92f4-b7d833135e8e",
   "metadata": {},
   "outputs": [
    {
     "name": "stdout",
     "output_type": "stream",
     "text": [
      "division attempt completed\n",
      "5.0\n",
      "division by zero\n",
      "division attempt completed\n",
      "None\n"
     ]
    }
   ],
   "source": [
    "#example of try , else , finally :\n",
    "def divide(x, y):\n",
    "    try:\n",
    "        result = x / y\n",
    "    except ZeroDivisionError:\n",
    "        print(\"division by zero\")\n",
    "    else:\n",
    "        return result\n",
    "    finally:\n",
    "        print(\"division attempt completed\")\n",
    "\n",
    "print(divide(10, 2)) # Output: 5.0 division attempt completed\n",
    "print(divide(10, 0)) # Output: division by zero division attempt completed"
   ]
  },
  {
   "cell_type": "code",
   "execution_count": 4,
   "id": "68367c1a-2c06-436d-902b-0492d86f0265",
   "metadata": {},
   "outputs": [
    {
     "name": "stdout",
     "output_type": "stream",
     "text": [
      "division by zero\n"
     ]
    }
   ],
   "source": [
    "#example of raise keyword\n",
    "def divide(x, y):\n",
    "    if y == 0:\n",
    "        raise ZeroDivisionError(\"division by zero\")\n",
    "    return x / y\n",
    "\n",
    "try:\n",
    "    result = divide(10, 0)\n",
    "except ZeroDivisionError as e:\n",
    "    print(e) # Output: division by zero"
   ]
  },
  {
   "cell_type": "markdown",
   "id": "e018294c-e987-4bc7-812d-8d4420f05398",
   "metadata": {},
   "source": [
    "#QUS5  What are custom Exception in python? What do we need custom Exception? Explain with Example.\n",
    "#ANS:\n",
    "        Custom exceptions in Python are user-defined exception classes that you can create to handle specific error conditions in your code. Custom exceptions are useful when you need to distinguish between different types of errors that might occur in your program. By raising a custom exception, you can provide a more meaningful error message and make it easier to identify and debug the source of the problem.\n",
    "\n",
    "To create a custom exception in Python, you need to define a new class that inherits from the built-in Exception class. This class should define an __init__ method to initialize any necessary data, and it can also override the default error message by defining a __str__ method."
   ]
  },
  {
   "cell_type": "code",
   "execution_count": 5,
   "id": "cc4ab38f-952c-452e-a145-0e12fabf3da8",
   "metadata": {},
   "outputs": [
    {
     "name": "stdout",
     "output_type": "stream",
     "text": [
      "Invalid input: input value must be non-negative\n"
     ]
    }
   ],
   "source": [
    "class InvalidInputError(Exception):\n",
    "    def __init__(self, message):\n",
    "        self.message = message\n",
    "\n",
    "def validate_input(input_value):\n",
    "    if input_value < 0:\n",
    "        raise InvalidInputError(\"Invalid input: input value must be non-negative\")\n",
    "    # rest of the code\n",
    "\n",
    "try:\n",
    "    validate_input(-1)\n",
    "except InvalidInputError as e:\n",
    "    print(e.message) # Output: Invalid input: input value must be non-negative"
   ]
  },
  {
   "cell_type": "code",
   "execution_count": 6,
   "id": "e9cddee0-0f50-4c1e-bc8d-a6db0bcb71bd",
   "metadata": {},
   "outputs": [
    {
     "name": "stdout",
     "output_type": "stream",
     "text": [
      "Cannot divide by zero\n"
     ]
    }
   ],
   "source": [
    "#QUS6 : Create custom Exception class. use this class to handle Exception.\n",
    "class CustomException(Exception):\n",
    "    def __init__(self, message):\n",
    "        self.message = message\n",
    "\n",
    "def divide(x, y):\n",
    "    if y == 0:\n",
    "        raise CustomException(\"Cannot divide by zero\")\n",
    "    return x / y\n",
    "\n",
    "try:\n",
    "    result = divide(10, 0)\n",
    "except CustomException as e:\n",
    "    print(e.message) # Output: Cannot divide by zero"
   ]
  },
  {
   "cell_type": "code",
   "execution_count": null,
   "id": "c632e62e-2714-4051-8d54-70b4193fefe1",
   "metadata": {},
   "outputs": [],
   "source": []
  }
 ],
 "metadata": {
  "kernelspec": {
   "display_name": "Python 3 (ipykernel)",
   "language": "python",
   "name": "python3"
  },
  "language_info": {
   "codemirror_mode": {
    "name": "ipython",
    "version": 3
   },
   "file_extension": ".py",
   "mimetype": "text/x-python",
   "name": "python",
   "nbconvert_exporter": "python",
   "pygments_lexer": "ipython3",
   "version": "3.10.8"
  }
 },
 "nbformat": 4,
 "nbformat_minor": 5
}
