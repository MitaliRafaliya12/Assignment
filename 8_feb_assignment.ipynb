{
 "cells": [
  {
   "cell_type": "code",
   "execution_count": 1,
   "id": "0626cd24-1afd-47b8-840d-5e3051666e9a",
   "metadata": {},
   "outputs": [],
   "source": [
    "#8th_feb_assignment"
   ]
  },
  {
   "cell_type": "markdown",
   "id": "bb481ea3-e7e8-4e48-a482-e7c7be384ea9",
   "metadata": {},
   "source": [
    "#QUS1 What is Abstraction in OOps? Explain with an example.\n",
    "#ANS:\n",
    "    \n",
    "Abstraction in python is defined as a process of handling complexity by hiding unnecessary information from the user.\n",
    "This is one of the core concepts of object-oriented programming (OOP) languages. \n",
    "That enables the user to implement even more complex logic on top of the provided abstraction without understanding or even thinking about all the hidden background/back-end complexity.\n",
    "\n",
    "#Example:\n",
    " we all use the social platforms and contact our friends, chat, share images etc.\n",
    " but we don’t know how these operations are happening in the background.\n",
    " Let us take another example, while visiting and reading blogs on the GreatLearning we tend to click on various links and perform various functions unknowingly what is happening in the background. \n",
    " That is exactly the abstraction that works in the OOP."
   ]
  },
  {
   "cell_type": "markdown",
   "id": "642824b7-9890-4aef-8dcf-203512dc366c",
   "metadata": {},
   "source": [
    "#QUS2 Q2. Differentiate between Abstraction and Encapsulation. Explain with an example.\n",
    "#ANS:\n",
    "       \n",
    "Abstraction :\n",
    "Abstraction is a process of hiding unnecessary data and showing only relevant data.\n",
    "Out of an ocean of data, we are only maintaining the transparency of some data to the user. \n",
    "This important concept in object-oriented programming will reduce the complexity of the code and increases the readability.\n",
    "\n",
    "Encapsulation\n",
    "Encapsulation is binding the data members with member variables.\n",
    "This will avoid the direct access of variables, because direct access of variables may violate privacy, and hiding of the implementation will not be possible.\n",
    "Encapsulation minimizes your code’s part revealed to the user.\n",
    "The user can be anyone who uses your published code or perhaps your code’s remaining part.\n",
    "Encapsulation works like a protective wrapper that conceals the code and data within the class. \n",
    "That data and code will be accessed outside the method/member function and the class that is not the members of that class."
   ]
  },
  {
   "cell_type": "code",
   "execution_count": 2,
   "id": "878432f4-6ce7-4e33-94d3-2d9cd36247c8",
   "metadata": {},
   "outputs": [],
   "source": [
    "#EXAMPLE OF ABSTRACTION AND ENCAPSULATION:\n",
    "class BankAccount:\n",
    "    def __init__(self, name, balance):\n",
    "        self._name = name\n",
    "        self._balance = balance\n",
    "        \n",
    "    def deposit(self, amount):\n",
    "        self._balance += amount\n",
    "        \n",
    "    def withdraw(self, amount):\n",
    "        if amount <= self._balance:\n",
    "            self._balance -= amount\n",
    "        else:\n",
    "            print(\"Insufficient balance\")\n",
    "            \n",
    "    def check_balance(self):\n",
    "        return self._balance\n",
    "    \n",
    "    def __str__(self):\n",
    "        return \"Account holder: {} \\nBalance: {}\".format(self._name, self._balance)"
   ]
  },
  {
   "cell_type": "code",
   "execution_count": 3,
   "id": "3a9e9dcb-968d-442c-af7f-5a1dc6e2a176",
   "metadata": {},
   "outputs": [],
   "source": [
    "c=BankAccount('mahi',2000)"
   ]
  },
  {
   "cell_type": "code",
   "execution_count": 4,
   "id": "5536873f-292c-4111-8ea1-a43cf722c791",
   "metadata": {},
   "outputs": [],
   "source": [
    "c.deposit(1000)"
   ]
  },
  {
   "cell_type": "code",
   "execution_count": 5,
   "id": "ff7b7bb6-de79-4a4f-9550-14591e1e5008",
   "metadata": {},
   "outputs": [
    {
     "data": {
      "text/plain": [
       "3000"
      ]
     },
     "execution_count": 5,
     "metadata": {},
     "output_type": "execute_result"
    }
   ],
   "source": [
    "c.check_balance()"
   ]
  },
  {
   "cell_type": "code",
   "execution_count": 6,
   "id": "6990fef5-5638-4702-b69f-05d3d6341507",
   "metadata": {},
   "outputs": [],
   "source": [
    "c.withdraw(500)"
   ]
  },
  {
   "cell_type": "code",
   "execution_count": 7,
   "id": "a7bd5fba-21dd-4723-ad1b-2c5d6c0548d3",
   "metadata": {},
   "outputs": [
    {
     "data": {
      "text/plain": [
       "2500"
      ]
     },
     "execution_count": 7,
     "metadata": {},
     "output_type": "execute_result"
    }
   ],
   "source": [
    "c.check_balance()"
   ]
  },
  {
   "cell_type": "markdown",
   "id": "96728295-7a70-436a-bcf2-135c6c5d44de",
   "metadata": {},
   "source": [
    "#QUS3 What is abc module in python? Why is it used? \n",
    "#ANS:\n",
    "The abc (Abstract Base Class) module in Python is a module that provides tools for defining abstract base classes (ABCs).\n",
    "An abstract base class is a class that cannot be instantiated but is meant to be subclassed.\n",
    "It serves as a blueprint for its subclasses, defining the common interface and behavior that the subclasses must provide.\n",
    "The abc module is used for defining abstract base classes in Python because it provides several convenient and powerful abstract base class definitions that make it easier to create and manage ABCs.\n",
    "For example,\n",
    "the ABC class provides a simple way to define an abstract base class, and the abstractmethod decorator can be used to define abstract methods that must be overridden by subclasses."
   ]
  },
  {
   "cell_type": "markdown",
   "id": "58a65aa8-f81b-4420-b66c-e56839c18d72",
   "metadata": {},
   "source": [
    "#QUS4 How can we achieve data abstraction?\n",
    "#ANS:\n",
    "        In Python, data abstraction is achieved through classes and objects.\n",
    "    Classes are a blueprint that define the data and behavior of objects. \n",
    "    The data in a class is represented using attributes (also called instance variables), \n",
    "    and the behavior is represented using methods (also called functions).\n",
    "\n",
    "Abstraction is achieved in Python by using access modifiers.\n",
    "Access modifiers determine the visibility and accessibility of the attributes and methods of a class.\n",
    "In Python, there are two access modifiers: public and private. \n",
    "By convention, a method or attribute name that starts with an underscore (e.g., \"_attribute\" or \"_method()\") is \n",
    "considered private and is not meant to be directly accessed from outside the class. On the other hand, methods and \n",
    "attributes that don't start with an underscore are considered public and can be accessed from outside the class."
   ]
  },
  {
   "cell_type": "markdown",
   "id": "084aa8c4-19bf-46d9-a6c5-3aca3ab1c337",
   "metadata": {},
   "source": [
    "#QUS5 Can we create an instance of an abstract class? Explain your answer.\n",
    "#ANS:\n",
    "     No, you cannot create an instance of an abstract class in Python.\n",
    "An abstract class is meant to be a blueprint for other classes and is not meant to be instantiated on its own.\n",
    "The purpose of an abstract class is to define a common interface for its subclasses, which must provide concrete\n",
    "implementations for the abstract methods defined in the abstract class."
   ]
  },
  {
   "cell_type": "code",
   "execution_count": null,
   "id": "1a80b724-5cd9-48f7-85f7-ce9e4231d904",
   "metadata": {},
   "outputs": [],
   "source": []
  }
 ],
 "metadata": {
  "kernelspec": {
   "display_name": "Python 3 (ipykernel)",
   "language": "python",
   "name": "python3"
  },
  "language_info": {
   "codemirror_mode": {
    "name": "ipython",
    "version": 3
   },
   "file_extension": ".py",
   "mimetype": "text/x-python",
   "name": "python",
   "nbconvert_exporter": "python",
   "pygments_lexer": "ipython3",
   "version": "3.10.8"
  }
 },
 "nbformat": 4,
 "nbformat_minor": 5
}
